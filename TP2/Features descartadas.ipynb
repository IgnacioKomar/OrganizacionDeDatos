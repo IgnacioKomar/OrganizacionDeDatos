{
 "cells": [
  {
   "cell_type": "code",
   "execution_count": null,
   "metadata": {},
   "outputs": [],
   "source": [
    "#Agrego columna con leads antes de conversion\n",
    "temp = dfData.sort_values('timestamp').groupby('person')\n",
    "lDictLeads = []\n",
    "for name, group in temp:\n",
    "    leads = {}\n",
    "    for row in group.itertuples():\n",
    "        model = row.model\n",
    "        mes = int(row.timestamp[6])\n",
    "        dia = int(row.timestamp[8:10])\n",
    "        if row.event == 'lead' and mes >= 5 and dia >= 20:\n",
    "            if model in leads:\n",
    "                leads[model] += 1\n",
    "            else:\n",
    "                leads[model] = 1\n",
    "        elif row.event == 'conversion' and (model in leads):\n",
    "            if leads[model] > 1:\n",
    "                leads[model] -= 1\n",
    "            else:\n",
    "                del leads[model]\n",
    "    if leads.values():\n",
    "        leads = 1\n",
    "    else:\n",
    "        leads = 0\n",
    "    lDictLeads.append({'person' : name, 'leads' : leads})\n",
    "dfLeads = pd.DataFrame(lDictLeads)"
   ]
  },
  {
   "cell_type": "code",
   "execution_count": null,
   "metadata": {},
   "outputs": [],
   "source": [
    "#Feature channels\n",
    "dfT = dfData[['person', 'channel']].dropna()\n",
    "dfT = dfT.loc[dfT['channel'] != 'Unknown']\n",
    "dfT = dfT.loc[dfT['channel'] != 'Email']\n",
    "dfT = dfT.loc[dfT['channel'] != 'Social']\n",
    "dfQChannels = dfT.groupby('person')['channel'].count().to_frame()\n",
    "dfPE = pd.get_dummies(dfT, columns=['channel']).groupby('person').sum()\n",
    "columnasCanales = dfPE.columns.values\n",
    "dfPE = dfPE.merge(dfQChannels, on='person')\n",
    "for canalColumna in columnasCanales:\n",
    "    dfPE[canalColumna] /= dfPE['channel']\n",
    "dfPE = dfPE.drop('channel', axis=1)\n",
    "dfUsers = dfUsers.merge(dfPE, on='person', how='left').fillna(0)"
   ]
  },
  {
   "cell_type": "code",
   "execution_count": null,
   "metadata": {},
   "outputs": [],
   "source": [
    "#Feature new vs returning\n",
    "def f(s):\n",
    "    if s == 'Returning':\n",
    "        return 1\n",
    "    return 0\n",
    "\n",
    "dfPE = dfData.dropna(subset=['new_vs_returning']).groupby('person')['new_vs_returning'].max().to_frame()\n",
    "dfPE['newOrReturning'] = dfPE['new_vs_returning'].apply(f)\n",
    "dfUsers = dfUsers.merge(dfPE.drop('new_vs_returning', axis=1), on='person', how='left').fillna(0)"
   ]
  },
  {
   "cell_type": "code",
   "execution_count": null,
   "metadata": {},
   "outputs": [],
   "source": [
    "#Feature screen resolution\n",
    "dfPE = dfData.dropna(subset=['screen_resolution'])\n",
    "dfPE['screenSize'] = dfPE['screen_resolution'].apply(lambda x : (int(str(x).split('x')[0]) + int(str(x).split('x')[1])) // 2)\n",
    "dfPE = dfPE.groupby('person')['screenSize'].max().to_frame()\n",
    "dfUsers = dfUsers.merge(dfPE, on='person', how='left').fillna(0)"
   ]
  }
 ],
 "metadata": {
  "kernelspec": {
   "display_name": "Python 3",
   "language": "python",
   "name": "python3"
  },
  "language_info": {
   "codemirror_mode": {
    "name": "ipython",
    "version": 3
   },
   "file_extension": ".py",
   "mimetype": "text/x-python",
   "name": "python",
   "nbconvert_exporter": "python",
   "pygments_lexer": "ipython3",
   "version": "3.6.0"
  }
 },
 "nbformat": 4,
 "nbformat_minor": 2
}
