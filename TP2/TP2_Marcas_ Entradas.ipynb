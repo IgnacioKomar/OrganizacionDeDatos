{
 "cells": [
  {
   "cell_type": "code",
   "execution_count": 1,
   "metadata": {},
   "outputs": [],
   "source": [
    "import pandas as pd\n",
    "import numpy as np\n",
    "import matplotlib.pyplot as plt\n",
    "import seaborn as sns\n",
    "import xgboost as xgb"
   ]
  },
  {
   "cell_type": "code",
   "execution_count": 2,
   "metadata": {},
   "outputs": [
    {
     "name": "stderr",
     "output_type": "stream",
     "text": [
      "/home/soledad-escobar/anaconda3/lib/python3.6/site-packages/IPython/core/interactiveshell.py:2785: DtypeWarning: Columns (3,5,6,7,8,9,10,11,12,13,14,15,16,17,18,19,20,21,22) have mixed types. Specify dtype option on import or set low_memory=False.\n",
      "  interactivity=interactivity, compiler=compiler, result=result)\n"
     ]
    }
   ],
   "source": [
    "dfData = pd.read_csv('/home/soledad-escobar/Descargas/Orga_datos/fiuba-trocafone-tp2-final-set/events_up_to_01062018.csv')\n",
    "dfTrain = pd.read_csv('/home/soledad-escobar/Descargas/Orga_datos/fiuba-trocafone-tp2-final-set/labels_training_set.csv')\n",
    "dfTest = pd.read_csv('/home/soledad-escobar/Descargas/Orga_datos/fiuba-trocafone-tp2-final-set/trocafone_kaggle_test.csv')\n",
    "dfSample = pd.read_csv('/home/soledad-escobar/Descargas/Orga_datos/fiuba-trocafone-tp2-final-set/trocafone_kaggle_submit_sample_all_0.csv')"
   ]
  },
  {
   "cell_type": "code",
   "execution_count": 3,
   "metadata": {},
   "outputs": [],
   "source": [
    "#Crea un df con todos los usuarios\n",
    "dfTest['label'] = 0\n",
    "dfUsers = pd.concat([dfTrain,dfTest])\n",
    "dfTest = dfTest.drop('label', axis=1)"
   ]
  },
  {
   "cell_type": "code",
   "execution_count": 4,
   "metadata": {},
   "outputs": [
    {
     "name": "stderr",
     "output_type": "stream",
     "text": [
      "/home/soledad-escobar/anaconda3/lib/python3.6/site-packages/ipykernel_launcher.py:10: SettingWithCopyWarning: \n",
      "A value is trying to be set on a copy of a slice from a DataFrame.\n",
      "Try using .loc[row_indexer,col_indexer] = value instead\n",
      "\n",
      "See the caveats in the documentation: http://pandas.pydata.org/pandas-docs/stable/indexing.html#indexing-view-versus-copy\n",
      "  # Remove the CWD from sys.path while we load stuff.\n"
     ]
    }
   ],
   "source": [
    "#Le asigna a cada usuario su cantidad de eventos dandole mas valor si son mas recientes\n",
    "def pesoTiempo(time):\n",
    "    mes = int(time[6])\n",
    "    dia = int(time[8:10])\n",
    "    if mes < 5:\n",
    "        return 1\n",
    "    return 10 + dia * 0.7\n",
    "    \n",
    "dfPE = dfData[['person', 'event', 'timestamp']]\n",
    "dfPE['puntajeTiempo'] = dfPE['timestamp'].apply(pesoTiempo)\n",
    "dfPE = pd.get_dummies(dfPE, columns=['event'])\n",
    "dfPE = dfPE.drop(['event_generic listing', 'event_lead'], axis=1)\n",
    "columnasEventos = dfPE.columns.values[3:]\n",
    "for eventoColumna in columnasEventos:\n",
    "    dfPE[eventoColumna] *= dfPE['puntajeTiempo']\n",
    "dfPE = dfPE.drop(['timestamp', 'puntajeTiempo'], axis=1).groupby('person').sum()\n",
    "dfUsers = dfUsers.sort_values('person').merge(dfPE, on='person')"
   ]
  },
  {
   "cell_type": "code",
   "execution_count": 5,
   "metadata": {},
   "outputs": [
    {
     "name": "stderr",
     "output_type": "stream",
     "text": [
      "/home/soledad-escobar/anaconda3/lib/python3.6/site-packages/ipykernel_launcher.py:11: SettingWithCopyWarning: \n",
      "A value is trying to be set on a copy of a slice from a DataFrame.\n",
      "Try using .loc[row_indexer,col_indexer] = value instead\n",
      "\n",
      "See the caveats in the documentation: http://pandas.pydata.org/pandas-docs/stable/indexing.html#indexing-view-versus-copy\n",
      "  # This is added back by InteractiveShellApp.init_path()\n"
     ]
    }
   ],
   "source": [
    "#Le asigna a cada usuario la region en la que mas eventos tiene\n",
    "regionesMasEventos = dfData['region'].value_counts().head(9).index.tolist()\n",
    "def filtrarRegiones(region):\n",
    "    if pd.isnull(region):\n",
    "        return 'null'\n",
    "    if region not in regionesMasEventos:\n",
    "        return 'Other'\n",
    "    return region\n",
    "    \n",
    "dfPE = dfData[['person', 'region']]\n",
    "dfPE['regionAcotada'] = dfPE['region'].apply(filtrarRegiones)\n",
    "\n",
    "lDictRegiones = []\n",
    "temp = dfPE.drop('region', axis=1).groupby('person')\n",
    "for name, group in temp:\n",
    "    regiones = {'null' : 1}\n",
    "    for row in group.itertuples():\n",
    "        region = row.regionAcotada\n",
    "        if region == 'null':\n",
    "            continue\n",
    "        if region in regiones:\n",
    "            regiones[region] += 1\n",
    "        else:\n",
    "            regiones[region] = 1\n",
    "        rMax = max(regiones, key=regiones.get)\n",
    "    lDictRegiones.append({'person' : name, 'region' : rMax})\n",
    "\n",
    "dfRegiones = pd.DataFrame(lDictRegiones)\n",
    "dfRegiones = pd.get_dummies(dfRegiones, columns=['region'])\n",
    "dfUsers = dfUsers.merge(dfRegiones, on='person')"
   ]
  },
  {
   "cell_type": "code",
   "execution_count": 6,
   "metadata": {},
   "outputs": [],
   "source": [
    "#Casteo dfUsers a int32\n",
    "personas = dfUsers['person']\n",
    "dfUsers.drop('person', axis=1, inplace=True)\n",
    "dfUsers = dfUsers.astype('int32')\n",
    "dfUsers['person'] = personas"
   ]
  },
  {
   "cell_type": "code",
   "execution_count": 7,
   "metadata": {},
   "outputs": [],
   "source": [
    "#Agrego columna con ultima visita al sitio\n",
    "temp = dfData.groupby('person')['timestamp'].max().to_frame()\n",
    "dfUsers = dfUsers.merge(temp, on='person')\n",
    "dfUsers['month'] = dfUsers['timestamp'].str[5:7]\n",
    "dfUsers['day'] = dfUsers['timestamp'].str[8:10]\n",
    "dfUsers[['day','month']] = dfUsers[['day','month']].apply(pd.to_numeric)\n",
    "dfUsers['last_visit'] = dfUsers['month']*30 + dfUsers['day']\n",
    "dfUsers = dfUsers.drop(['timestamp','month','day'], axis=1)"
   ]
  },
  {
   "cell_type": "code",
   "execution_count": 8,
   "metadata": {},
   "outputs": [],
   "source": [
    "#Agrego columna con ultima compra\n",
    "temp = dfData.loc[dfData['event'] == 'conversion'].groupby('person')['timestamp'].max().to_frame()\n",
    "dfUsers = dfUsers.merge(temp, how='left', on='person')\n",
    "dfUsers = dfUsers.fillna('000000000000000000')\n",
    "dfUsers['month'] = dfUsers['timestamp'].str[5:7]\n",
    "dfUsers['day'] = dfUsers['timestamp'].str[8:10]\n",
    "dfUsers[['day','month']] = dfUsers[['day','month']].apply(pd.to_numeric)\n",
    "dfUsers['last_conversion'] = dfUsers['month']*30 + dfUsers['day']\n",
    "dfUsers = dfUsers.drop(['timestamp','month','day'], axis=1)"
   ]
  },
  {
   "cell_type": "code",
   "execution_count": 9,
   "metadata": {},
   "outputs": [
    {
     "name": "stderr",
     "output_type": "stream",
     "text": [
      "/home/soledad-escobar/anaconda3/lib/python3.6/site-packages/ipykernel_launcher.py:11: SettingWithCopyWarning: \n",
      "A value is trying to be set on a copy of a slice from a DataFrame.\n",
      "Try using .loc[row_indexer,col_indexer] = value instead\n",
      "\n",
      "See the caveats in the documentation: http://pandas.pydata.org/pandas-docs/stable/indexing.html#indexing-view-versus-copy\n",
      "  # This is added back by InteractiveShellApp.init_path()\n"
     ]
    }
   ],
   "source": [
    "#Columna con relacion entre el uso del celular y de la computadora\n",
    "def filtrarDispositivo(deviceType):\n",
    "    if deviceType == 'Computer':\n",
    "        return 1\n",
    "    elif deviceType == 'Smartphone':\n",
    "        return 0\n",
    "    else:\n",
    "        return 2\n",
    "    \n",
    "dfPE = dfData[['person', 'device_type']]\n",
    "dfPE['dispositivo'] = dfPE['device_type'].apply(filtrarDispositivo)\n",
    "dfPE = dfPE.loc[dfPE['dispositivo'] != 2].drop('device_type', axis=1).groupby('person').mean()\n",
    "dfUsers = dfUsers.merge(dfPE, on='person', how='left').fillna(0)"
   ]
  },
  {
   "cell_type": "code",
   "execution_count": 10,
   "metadata": {},
   "outputs": [],
   "source": [
    "#Feature storage\n",
    "dfT = dfData.loc[dfData['event'] == 'viewed product'][['person', 'storage']].dropna()\n",
    "dfT = dfT.loc[dfT['storage'] != '256GB']\n",
    "dfT = dfT.loc[dfT['storage'] != '4GB']\n",
    "dfT = dfT.loc[dfT['storage'] != '512MB']\n",
    "dfT = dfT.loc[dfT['storage'] != '8GB']\n",
    "dfT = dfT.loc[dfT['storage'] != '128GB']\n",
    "dfQChannels = dfT.groupby('person')['storage'].count().to_frame()\n",
    "dfPE = pd.get_dummies(dfT, columns=['storage']).groupby('person').sum()\n",
    "columnasCanales = dfPE.columns.values\n",
    "dfPE = dfPE.merge(dfQChannels, on='person')\n",
    "for canalColumna in columnasCanales:\n",
    "    dfPE[canalColumna] /= dfPE['storage']\n",
    "dfPE = dfPE.drop('storage', axis=1)\n",
    "dfUsers = dfUsers.merge(dfPE, on='person', how='left').fillna(0)"
   ]
  },
  {
   "cell_type": "markdown",
   "metadata": {},
   "source": [
    "# Gradient Boosting "
   ]
  },
  {
   "cell_type": "code",
   "execution_count": 11,
   "metadata": {},
   "outputs": [
    {
     "data": {
      "text/plain": [
       "0.8713439818351715"
      ]
     },
     "execution_count": 11,
     "metadata": {},
     "output_type": "execute_result"
    }
   ],
   "source": [
    "from sklearn.ensemble import GradientBoostingClassifier\n",
    "from sklearn.model_selection import cross_val_score\n",
    "\n",
    "df_y = dfTrain['label']\n",
    "df_X = dfTrain.drop('label', axis=1).merge(dfUsers, on='person').drop(['person','label'], axis=1)\n",
    "\n",
    "GBC = GradientBoostingClassifier(random_state=23)\n",
    "scores = cross_val_score(GBC , df_X, df_y, scoring=\"roc_auc\", cv=5)\n",
    "scores.mean()"
   ]
  },
  {
   "cell_type": "markdown",
   "metadata": {},
   "source": [
    "# XGBoost"
   ]
  },
  {
   "cell_type": "code",
   "execution_count": 12,
   "metadata": {},
   "outputs": [
    {
     "data": {
      "text/plain": [
       "0.8714516741838478"
      ]
     },
     "execution_count": 12,
     "metadata": {},
     "output_type": "execute_result"
    }
   ],
   "source": [
    "#Pruebo con XGBoost\n",
    "XGBC = xgb.XGBClassifier(learning_rate =0.075, n_estimators=95, max_depth=4, min_child_weight=6, \n",
    "                         gamma=0.3, subsample=0.8, colsample_bytree=0.8, objective= 'binary:logistic',\n",
    "                         scale_pos_weight=0.8, seed = 15)\n",
    "\n",
    "scores = cross_val_score(XGBC , df_X, df_y, scoring=\"roc_auc\", cv=5)\n",
    "scores.mean()"
   ]
  },
  {
   "cell_type": "markdown",
   "metadata": {},
   "source": [
    "# Voting Classifier"
   ]
  },
  {
   "cell_type": "code",
   "execution_count": 13,
   "metadata": {},
   "outputs": [
    {
     "data": {
      "text/plain": [
       "0.8725075812650991"
      ]
     },
     "execution_count": 13,
     "metadata": {},
     "output_type": "execute_result"
    }
   ],
   "source": [
    "from sklearn.ensemble import VotingClassifier\n",
    "\n",
    "VC = VotingClassifier(estimators=[('xgb', XGBC), ('gb', GBC)], voting='soft', weights = [1.8,0.9])\n",
    "scores = cross_val_score(VC , df_X, df_y, scoring=\"roc_auc\", cv=5)\n",
    "scores.mean()"
   ]
  },
  {
   "cell_type": "markdown",
   "metadata": {},
   "source": [
    "# Agrego nuevos features"
   ]
  },
  {
   "cell_type": "code",
   "execution_count": 14,
   "metadata": {},
   "outputs": [],
   "source": [
    "# Agrego columnas para separar los meses y la hora\n",
    "datos = dfData.loc[:,['timestamp', 'event', 'person']]\n",
    "datos['date_time'] = pd.to_datetime(datos['timestamp'], format='%Y%m%d %H:%M:%S.%f')\n",
    "datos['mes'] = datos['date_time'].dt.month\n",
    "datos['hora'] = datos['date_time'].dt.hour"
   ]
  },
  {
   "cell_type": "code",
   "execution_count": 15,
   "metadata": {},
   "outputs": [],
   "source": [
    "#Agrego columnas para ver el momento del dia en el que se generaron las conversiones\n",
    "features = datos.loc[ datos['event'] == 'conversion', ['person', 'hora']]\n",
    "features['mañana'] = features['hora'].apply(lambda x: 1 if ((x >= 6) & (x < 12)) else 0)\n",
    "features['tarde'] = features['hora'].apply(lambda x: 1 if ((x >= 12) & (x <20)) else 0)\n",
    "features['noche'] = features['hora'].apply(lambda x: 1 if ((x >= 20) & (x <= 23)) else 0)\n",
    "features['madrugada'] = features['hora'].apply(lambda x: 1 if ((x >= 0) & (x < 6)) else 0)\n",
    "features = features.drop('hora', axis = 'columns').groupby('person').sum()"
   ]
  },
  {
   "cell_type": "code",
   "execution_count": 16,
   "metadata": {},
   "outputs": [],
   "source": [
    "# Hago un join con los features anteriores\n",
    "df_feat = pd.merge(dfUsers, features, on = 'person', how = 'left').fillna(0.0).drop('label', axis = 'columns')\n",
    "# Agrego la cantidad de eventos que generaron las personas\n",
    "df_feat['total_events'] = (np.sum(df_feat.filter(items = ['event_ad campaign hit','event_brand listing', 'event_checkout', \n",
    "                                                         'event_conversion', 'event_search engine hit', \n",
    "                                                         'event_searched products', 'event_staticpage', 'event_viewed product','event_visited site']), \n",
    "    axis = 'columns'))"
   ]
  },
  {
   "cell_type": "markdown",
   "metadata": {},
   "source": [
    "# XGBoost Classifier"
   ]
  },
  {
   "cell_type": "code",
   "execution_count": 17,
   "metadata": {},
   "outputs": [],
   "source": [
    "import xgboost as xgb\n",
    "from sklearn.model_selection import train_test_split\n",
    "\n",
    "# Me quedo solo con los datos de las pñersonas que tienen labels\n",
    "df_features = df_feat.merge(dfTrain, on = 'person')\n",
    "\n",
    "y = df_features['label']\n",
    "X = df_features.drop(['person', 'label'], axis=1)\n",
    "\n",
    "X_train, X_test, y_train, y_test = \\\n",
    "    train_test_split(X, y, test_size = 0.2)"
   ]
  },
  {
   "cell_type": "markdown",
   "metadata": {},
   "source": [
    "Realizo las predicciones y luego calculo el score"
   ]
  },
  {
   "cell_type": "code",
   "execution_count": 18,
   "metadata": {},
   "outputs": [
    {
     "data": {
      "text/plain": [
       "array([0.00433903, 0.11956581, 0.00601478, ..., 0.00630069, 0.00651297,\n",
       "       0.03671734], dtype=float32)"
      ]
     },
     "execution_count": 18,
     "metadata": {},
     "output_type": "execute_result"
    }
   ],
   "source": [
    "XGBC.fit(X_train, y_train)\n",
    "preds = XGBC.predict_proba(X_test)[:,1]\n",
    "preds"
   ]
  },
  {
   "cell_type": "code",
   "execution_count": 19,
   "metadata": {},
   "outputs": [
    {
     "data": {
      "text/plain": [
       "0.8697834635793129"
      ]
     },
     "execution_count": 19,
     "metadata": {},
     "output_type": "execute_result"
    }
   ],
   "source": [
    "scores = cross_val_score(XGBC , X, y, scoring = \"roc_auc\", cv = 5)\n",
    "scores.mean()"
   ]
  },
  {
   "cell_type": "markdown",
   "metadata": {},
   "source": [
    "Como el score bajó veo como mejorar mis features."
   ]
  },
  {
   "cell_type": "code",
   "execution_count": 20,
   "metadata": {},
   "outputs": [
    {
     "data": {
      "text/plain": [
       "{'mañana': 463.0, 'tarde': 3400.0, 'noche': 1755.0, 'madrugada': 1473.0}"
      ]
     },
     "execution_count": 20,
     "metadata": {},
     "output_type": "execute_result"
    }
   ],
   "source": [
    "# Veo en que momento del día se realizan más compras\n",
    "ranking = {'mañana': df_feat['mañana'].sum(), 'tarde': df_feat['tarde'].sum(), 'noche': df_feat['noche'].sum(), 'madrugada': df_feat['madrugada'].sum()}\n",
    "ranking"
   ]
  },
  {
   "cell_type": "code",
   "execution_count": 21,
   "metadata": {},
   "outputs": [],
   "source": [
    "#Agrego una columna para calcular la cantidad de conversiones realizadas sobre el total de eventos relaizados\n",
    "def calcular_posibilidad(x):\n",
    "    if (x['total_events'] == 0): \n",
    "            return 0\n",
    "    else:\n",
    "        return (x['event_conversion']/x['total_events'])\n",
    "    \n",
    "df_feat['posible_conversion'] = df_feat.loc[:,['event_conversion','total_events']].apply(calcular_posibilidad, axis = 1)"
   ]
  },
  {
   "cell_type": "code",
   "execution_count": 22,
   "metadata": {},
   "outputs": [
    {
     "data": {
      "text/plain": [
       "0.8711064646136444"
      ]
     },
     "execution_count": 22,
     "metadata": {},
     "output_type": "execute_result"
    }
   ],
   "source": [
    "# Me quedo solo con las personas que tienen labels\n",
    "df_features_1 = df_feat.merge(dfTrain, on = 'person')\n",
    "\n",
    "y1 = df_features_1['label']\n",
    "X1 = df_features_1.drop(['person', 'label'], axis=1)\n",
    "\n",
    "scores = cross_val_score(XGBC , X1, y1, scoring = \"roc_auc\", cv = 5)\n",
    "scores.mean()"
   ]
  },
  {
   "cell_type": "markdown",
   "metadata": {},
   "source": [
    "Como en el ranking realizado se ve en que momentos del día se realizan más conversiones, creo columnas para asignar más peso a las conversiones \"más posibles\" segun el momento del dia en el que ingresa el usuario"
   ]
  },
  {
   "cell_type": "code",
   "execution_count": 23,
   "metadata": {},
   "outputs": [],
   "source": [
    "df_feat['posib_conv_mañ'] = (df_feat['posible_conversion'] * 1.5)\n",
    "df_feat['posib_conv_tar'] =(df_feat['posible_conversion'] * 10)\n",
    "df_feat['posib_conv_noch'] = (df_feat['posible_conversion'] * 5)\n",
    "df_feat['posib_conv_mad'] = (df_feat['posible_conversion'] * 4)"
   ]
  },
  {
   "cell_type": "code",
   "execution_count": 24,
   "metadata": {},
   "outputs": [
    {
     "data": {
      "text/plain": [
       "0.8688924893658031"
      ]
     },
     "execution_count": 24,
     "metadata": {},
     "output_type": "execute_result"
    }
   ],
   "source": [
    "# Me quedo solo con las personas que tienen labels\n",
    "df_features_2 = df_feat.merge(dfTrain, on = 'person')\n",
    "\n",
    "y2 = df_features_2['label']\n",
    "X2 = df_features_2.drop(['person', 'label'], axis=1)\n",
    "\n",
    "scores = cross_val_score(XGBC , X2, y2, scoring = \"roc_auc\", cv = 5)\n",
    "scores.mean()"
   ]
  },
  {
   "cell_type": "markdown",
   "metadata": {},
   "source": [
    "Como los nuevos features solo bajan aun más la precisión del algoritmo, los descarto"
   ]
  },
  {
   "cell_type": "code",
   "execution_count": 25,
   "metadata": {},
   "outputs": [],
   "source": [
    "# Agrego la relación entre checkouts y conversiones\n",
    "def relacion_conversion_checkout(df):\n",
    "    if (df['event_checkout'] == 0):\n",
    "        return 0\n",
    "    else:\n",
    "        return (df['event_conversion'] / df['event_checkout'])\n",
    "df_feat['conversion/checkout'] = df_feat.loc[:,['event_conversion', 'event_checkout']].apply(relacion_conversion_checkout, axis = 1)"
   ]
  },
  {
   "cell_type": "code",
   "execution_count": 26,
   "metadata": {},
   "outputs": [],
   "source": [
    "# Descarto los features anteriores\n",
    "new_df_features = df_feat.drop(['posib_conv_mañ', 'posib_conv_tar', 'posib_conv_noch','posib_conv_mad'], axis = 1)"
   ]
  },
  {
   "cell_type": "code",
   "execution_count": 28,
   "metadata": {},
   "outputs": [
    {
     "data": {
      "text/plain": [
       "0.8702910835440338"
      ]
     },
     "execution_count": 28,
     "metadata": {},
     "output_type": "execute_result"
    }
   ],
   "source": [
    "# Me quedo solo con las personas que tienen labels\n",
    "df_features_3 = new_df_features.merge(dfTrain, on = 'person')\n",
    "\n",
    "y3 = df_features_3['label']\n",
    "X3 = df_features_3.drop(['person', 'label'], axis=1)\n",
    "\n",
    "#XGBoost\n",
    "scores = cross_val_score(XGBC , X3, y3, scoring = \"roc_auc\", cv = 5)\n",
    "scores.mean()"
   ]
  },
  {
   "cell_type": "code",
   "execution_count": 29,
   "metadata": {},
   "outputs": [
    {
     "data": {
      "text/plain": [
       "0.8713611365376932"
      ]
     },
     "execution_count": 29,
     "metadata": {},
     "output_type": "execute_result"
    }
   ],
   "source": [
    "#Gradient Boosting\n",
    "scores = cross_val_score(GBC , X3, y3, scoring = \"roc_auc\", cv = 5)\n",
    "scores.mean()"
   ]
  },
  {
   "cell_type": "code",
   "execution_count": 30,
   "metadata": {},
   "outputs": [
    {
     "data": {
      "text/plain": [
       "0.8717975352925429"
      ]
     },
     "execution_count": 30,
     "metadata": {},
     "output_type": "execute_result"
    }
   ],
   "source": [
    "#Voting\n",
    "scores = cross_val_score(VC , X3, y3, scoring=\"roc_auc\", cv=5)\n",
    "scores.mean()"
   ]
  },
  {
   "cell_type": "markdown",
   "metadata": {},
   "source": [
    "## Agrego más features sobre marcas y modelos de los productos"
   ]
  },
  {
   "cell_type": "markdown",
   "metadata": {},
   "source": [
    "Como se tienen muchos modelos diferentes pero corresponden a una cantidad acotada de marcas, trabajo sobre las marcas para crear nuevos features. Creo una columna por cada marca existente y para cada persona coloco el promedio de compra para esa marca."
   ]
  },
  {
   "cell_type": "code",
   "execution_count": 31,
   "metadata": {},
   "outputs": [],
   "source": [
    "marcas = dfData.loc[:, ['model', 'person']]\n",
    "marcas['Samsung'] = marcas['model'].apply(lambda x: 1 if ('samsung' in str(x).lower()) else 0)\n",
    "marcas['iPhone'] = marcas['model'].apply(lambda x: 1 if ('iphone' in str(x).lower()) else 0)\n",
    "marcas['Motorola'] = marcas['model'].apply(lambda x: 1 if ('moto' in str(x).lower()) else 0)\n",
    "marcas['Lenovo'] = marcas['model'].apply(lambda x: 1 if ('lenovo' in str(x).lower()) else 0)\n",
    "marcas['LG'] = marcas['model'].apply(lambda x: 1 if ('lg' in str(x).lower()) else 0)\n",
    "marcas['Sony'] = marcas['model'].apply(lambda x: 1 if ('sony' in str(x).lower()) else 0)\n",
    "marcas['Asus'] = marcas['model'].apply(lambda x: 1 if ('asus' in str(x).lower()) else 0)\n",
    "marcas['iPad'] = marcas['model'].apply(lambda x: 1 if ('ipad' in str(x).lower()) else 0)\n",
    "marcas['Quantum'] = marcas['model'].apply(lambda x: 1 if ('quantum' in str(x).lower()) else 0)\n",
    "dfFeat = marcas.groupby('person').sum()"
   ]
  },
  {
   "cell_type": "code",
   "execution_count": 32,
   "metadata": {},
   "outputs": [],
   "source": [
    "# Hago join con los features anteriores \n",
    "new_features = pd.merge(new_df_features, dfFeat, on = 'person', how = 'left').fillna(0.0)"
   ]
  },
  {
   "cell_type": "markdown",
   "metadata": {},
   "source": [
    "## Vuelvo a correr XGBoost para ver si con los nuevos features mejoran las predicciones"
   ]
  },
  {
   "cell_type": "code",
   "execution_count": 33,
   "metadata": {},
   "outputs": [],
   "source": [
    "# Me quedo solo con las personas que tienen labels\n",
    "df_features_4 = new_features.merge(dfTrain, on = 'person')\n",
    "\n",
    "y4 = df_features_4['label']\n",
    "X4 = df_features_4.drop(['person', 'label'], axis=1)"
   ]
  },
  {
   "cell_type": "code",
   "execution_count": 45,
   "metadata": {},
   "outputs": [
    {
     "data": {
      "text/plain": [
       "Index(['event_ad campaign hit', 'event_brand listing', 'event_checkout',\n",
       "       'event_conversion', 'event_search engine hit',\n",
       "       'event_searched products', 'event_staticpage', 'event_viewed product',\n",
       "       'event_visited site', 'region_Bahia', 'region_Ceara',\n",
       "       'region_Minas Gerais', 'region_Other', 'region_Parana',\n",
       "       'region_Pernambuco', 'region_Rio Grande do Sul',\n",
       "       'region_Rio de Janeiro', 'region_Sao Paulo', 'region_Unknown',\n",
       "       'region_null', 'person', 'last_visit', 'last_conversion', 'dispositivo',\n",
       "       'storage_16GB', 'storage_32GB', 'storage_64GB', 'mañana', 'tarde',\n",
       "       'noche', 'madrugada', 'total_events', 'posible_conversion',\n",
       "       'conversion/checkout', 'Samsung', 'iPhone', 'Motorola', 'Lenovo', 'LG',\n",
       "       'Sony', 'Asus', 'iPad', 'Quantum'],\n",
       "      dtype='object')"
      ]
     },
     "execution_count": 45,
     "metadata": {},
     "output_type": "execute_result"
    }
   ],
   "source": [
    "new_features.columns"
   ]
  },
  {
   "cell_type": "code",
   "execution_count": 34,
   "metadata": {},
   "outputs": [
    {
     "data": {
      "text/plain": [
       "0.8713776064396603"
      ]
     },
     "execution_count": 34,
     "metadata": {},
     "output_type": "execute_result"
    }
   ],
   "source": [
    "#XGBoost\n",
    "scores = cross_val_score(XGBC , X4, y4, scoring = \"roc_auc\", cv = 5)\n",
    "scores.mean()"
   ]
  },
  {
   "cell_type": "code",
   "execution_count": 35,
   "metadata": {},
   "outputs": [
    {
     "data": {
      "text/plain": [
       "0.8714104849002412"
      ]
     },
     "execution_count": 35,
     "metadata": {},
     "output_type": "execute_result"
    }
   ],
   "source": [
    "#Gradient Boosting\n",
    "scores = cross_val_score(GBC , X4, y4, scoring = \"roc_auc\", cv = 5)\n",
    "scores.mean()"
   ]
  },
  {
   "cell_type": "code",
   "execution_count": 36,
   "metadata": {},
   "outputs": [
    {
     "data": {
      "text/plain": [
       "0.8724011380082517"
      ]
     },
     "execution_count": 36,
     "metadata": {},
     "output_type": "execute_result"
    }
   ],
   "source": [
    "#Voting\n",
    "scores = cross_val_score(VC , X4, y4, scoring=\"roc_auc\", cv=5)\n",
    "scores.mean()"
   ]
  },
  {
   "cell_type": "markdown",
   "metadata": {},
   "source": [
    "Creo nuevos features para posibilidad de compra según la marca que visite el usuario"
   ]
  },
  {
   "cell_type": "code",
   "execution_count": 37,
   "metadata": {},
   "outputs": [],
   "source": [
    "#Creo columnas para las compras por marcas existentes\n",
    "compras_por_marcas = dfData.loc[dfData['event'] == 'conversion', ['model', 'person']]\n",
    "compras_por_marcas['Samsung_comp'] = compras_por_marcas['model'].apply(lambda x: 1 if ('samsung' in x.lower()) else 0)\n",
    "compras_por_marcas['iPhone_comp'] = compras_por_marcas['model'].apply(lambda x: 1 if ('iphone' in x.lower()) else 0)\n",
    "compras_por_marcas['Motorola_comp'] = compras_por_marcas['model'].apply(lambda x: 1 if ('moto' in x.lower()) else 0)\n",
    "compras_por_marcas['Lenovo_comp'] = compras_por_marcas['model'].apply(lambda x: 1 if ('lenovo' in x.lower()) else 0)\n",
    "compras_por_marcas['LG_comp'] = compras_por_marcas['model'].apply(lambda x: 1 if ('lg' in x.lower()) else 0)\n",
    "compras_por_marcas['Sony_comp'] = compras_por_marcas['model'].apply(lambda x: 1 if ('sony' in x.lower()) else 0)\n",
    "compras_por_marcas['Asus_comp'] = compras_por_marcas['model'].apply(lambda x: 1 if ('asus' in x.lower()) else 0)\n",
    "compras_por_marcas['iPad_comp'] = compras_por_marcas['model'].apply(lambda x: 1 if ('iPad' in x.lower()) else 0)\n",
    "compras_por_marcas['Quantum_comp'] = compras_por_marcas['model'].apply(lambda x: 1 if ('quantum' in x.lower()) else 0)\n",
    "features = compras_por_marcas.groupby('person').mean()"
   ]
  },
  {
   "cell_type": "code",
   "execution_count": 38,
   "metadata": {},
   "outputs": [],
   "source": [
    "set_features = pd.merge(new_features, features, on = 'person', how = 'left').fillna(0.0)"
   ]
  },
  {
   "cell_type": "code",
   "execution_count": 39,
   "metadata": {},
   "outputs": [],
   "source": [
    "# Me quedo solo con las personas que tienen labels\n",
    "df_features_5 = set_features.merge(dfTrain, on = 'person')\n",
    "\n",
    "y5 = df_features_5['label']\n",
    "X5 = df_features_5.drop(['person', 'label'], axis=1)"
   ]
  },
  {
   "cell_type": "code",
   "execution_count": 40,
   "metadata": {},
   "outputs": [
    {
     "data": {
      "text/plain": [
       "0.8708949252510443"
      ]
     },
     "execution_count": 40,
     "metadata": {},
     "output_type": "execute_result"
    }
   ],
   "source": [
    "#XGBoost\n",
    "scores = cross_val_score(XGBC, X5, y5, scoring = \"roc_auc\", cv = 5)\n",
    "scores.mean()"
   ]
  },
  {
   "cell_type": "code",
   "execution_count": 43,
   "metadata": {},
   "outputs": [
    {
     "data": {
      "text/plain": [
       "0.8717671724725726"
      ]
     },
     "execution_count": 43,
     "metadata": {},
     "output_type": "execute_result"
    }
   ],
   "source": [
    "#Gradient Boosting\n",
    "scores = cross_val_score(GBC , X5, y5, scoring = \"roc_auc\", cv = 5)\n",
    "scores.mean()"
   ]
  },
  {
   "cell_type": "code",
   "execution_count": 42,
   "metadata": {},
   "outputs": [
    {
     "data": {
      "text/plain": [
       "0.8722816721656891"
      ]
     },
     "execution_count": 42,
     "metadata": {},
     "output_type": "execute_result"
    }
   ],
   "source": [
    "#Voting\n",
    "scores = cross_val_score(VC , X5, y5, scoring=\"roc_auc\", cv=5)\n",
    "scores.mean()"
   ]
  },
  {
   "cell_type": "code",
   "execution_count": 46,
   "metadata": {},
   "outputs": [],
   "source": [
    "new_set_features = new_features.drop(['mañana', 'tarde', 'noche', 'madrugada'], axis = 1)"
   ]
  },
  {
   "cell_type": "code",
   "execution_count": 47,
   "metadata": {},
   "outputs": [],
   "source": [
    "# Me quedo solo con las personas que tienen labels\n",
    "df_features_6 = new_set_features.merge(dfTrain, on = 'person')\n",
    "\n",
    "y6 = df_features_6['label']\n",
    "X6 = df_features_6.drop(['person', 'label'], axis=1)"
   ]
  },
  {
   "cell_type": "code",
   "execution_count": 50,
   "metadata": {},
   "outputs": [
    {
     "data": {
      "text/plain": [
       "0.8707839589167541"
      ]
     },
     "execution_count": 50,
     "metadata": {},
     "output_type": "execute_result"
    }
   ],
   "source": [
    "#XGBoost\n",
    "scores = cross_val_score(XGBC, X6, y6, scoring = \"roc_auc\", cv = 5)\n",
    "scores.mean()"
   ]
  },
  {
   "cell_type": "code",
   "execution_count": 51,
   "metadata": {},
   "outputs": [
    {
     "data": {
      "text/plain": [
       "0.8721510621054254"
      ]
     },
     "execution_count": 51,
     "metadata": {},
     "output_type": "execute_result"
    }
   ],
   "source": [
    "#Gradient Boosting\n",
    "scores = cross_val_score(GBC , X6, y6, scoring = \"roc_auc\", cv = 5)\n",
    "scores.mean()"
   ]
  },
  {
   "cell_type": "code",
   "execution_count": 52,
   "metadata": {},
   "outputs": [
    {
     "data": {
      "text/plain": [
       "0.8725094905675832"
      ]
     },
     "execution_count": 52,
     "metadata": {},
     "output_type": "execute_result"
    }
   ],
   "source": [
    "#Voting\n",
    "scores = cross_val_score(VC , X6, y6, scoring=\"roc_auc\", cv=5)\n",
    "scores.mean()"
   ]
  },
  {
   "cell_type": "code",
   "execution_count": 54,
   "metadata": {},
   "outputs": [
    {
     "data": {
      "text/plain": [
       "Index(['event_ad campaign hit', 'event_brand listing', 'event_checkout',\n",
       "       'event_conversion', 'event_search engine hit',\n",
       "       'event_searched products', 'event_staticpage', 'event_viewed product',\n",
       "       'event_visited site', 'region_Bahia', 'region_Ceara',\n",
       "       'region_Minas Gerais', 'region_Other', 'region_Parana',\n",
       "       'region_Pernambuco', 'region_Rio Grande do Sul',\n",
       "       'region_Rio de Janeiro', 'region_Sao Paulo', 'region_Unknown',\n",
       "       'region_null', 'person', 'last_visit', 'last_conversion', 'dispositivo',\n",
       "       'storage_16GB', 'storage_32GB', 'storage_64GB', 'total_events',\n",
       "       'posible_conversion', 'conversion/checkout', 'Samsung', 'iPhone',\n",
       "       'Motorola', 'Lenovo', 'LG', 'Sony', 'Asus', 'iPad', 'Quantum'],\n",
       "      dtype='object')"
      ]
     },
     "execution_count": 54,
     "metadata": {},
     "output_type": "execute_result"
    }
   ],
   "source": [
    "new_set_features.columns"
   ]
  },
  {
   "cell_type": "code",
   "execution_count": 55,
   "metadata": {},
   "outputs": [],
   "source": [
    "VC.fit(X6, y6)\n",
    "df_p = dfTest.merge(new_set_features, on='person').drop(['person'], axis=1)\n",
    "temp = VC.predict_proba(df_p)\n",
    "submit = []\n",
    "for l in temp:\n",
    "    submit.append(l[1])\n",
    "dfTest['label'] = submit"
   ]
  },
  {
   "cell_type": "code",
   "execution_count": 56,
   "metadata": {},
   "outputs": [],
   "source": [
    "dfTest.to_csv('submit_predicciones.csv', index=False)"
   ]
  },
  {
   "cell_type": "code",
   "execution_count": 57,
   "metadata": {},
   "outputs": [
    {
     "data": {
      "text/html": [
       "<div>\n",
       "<style scoped>\n",
       "    .dataframe tbody tr th:only-of-type {\n",
       "        vertical-align: middle;\n",
       "    }\n",
       "\n",
       "    .dataframe tbody tr th {\n",
       "        vertical-align: top;\n",
       "    }\n",
       "\n",
       "    .dataframe thead th {\n",
       "        text-align: right;\n",
       "    }\n",
       "</style>\n",
       "<table border=\"1\" class=\"dataframe\">\n",
       "  <thead>\n",
       "    <tr style=\"text-align: right;\">\n",
       "      <th></th>\n",
       "      <th>person</th>\n",
       "      <th>label</th>\n",
       "    </tr>\n",
       "  </thead>\n",
       "  <tbody>\n",
       "    <tr>\n",
       "      <th>0</th>\n",
       "      <td>4886f805</td>\n",
       "      <td>0.004291</td>\n",
       "    </tr>\n",
       "    <tr>\n",
       "      <th>1</th>\n",
       "      <td>0297fc1e</td>\n",
       "      <td>0.021283</td>\n",
       "    </tr>\n",
       "    <tr>\n",
       "      <th>2</th>\n",
       "      <td>2d681dd8</td>\n",
       "      <td>0.010314</td>\n",
       "    </tr>\n",
       "    <tr>\n",
       "      <th>3</th>\n",
       "      <td>cccea85e</td>\n",
       "      <td>0.081931</td>\n",
       "    </tr>\n",
       "    <tr>\n",
       "      <th>4</th>\n",
       "      <td>4c8a8b93</td>\n",
       "      <td>0.026733</td>\n",
       "    </tr>\n",
       "    <tr>\n",
       "      <th>5</th>\n",
       "      <td>29ebb414</td>\n",
       "      <td>0.006671</td>\n",
       "    </tr>\n",
       "    <tr>\n",
       "      <th>6</th>\n",
       "      <td>3dc1950f</td>\n",
       "      <td>0.056805</td>\n",
       "    </tr>\n",
       "    <tr>\n",
       "      <th>7</th>\n",
       "      <td>8ea4c165</td>\n",
       "      <td>0.037193</td>\n",
       "    </tr>\n",
       "    <tr>\n",
       "      <th>8</th>\n",
       "      <td>d8cfe234</td>\n",
       "      <td>0.031736</td>\n",
       "    </tr>\n",
       "    <tr>\n",
       "      <th>9</th>\n",
       "      <td>d6bc64df</td>\n",
       "      <td>0.052150</td>\n",
       "    </tr>\n",
       "    <tr>\n",
       "      <th>10</th>\n",
       "      <td>ec9c4059</td>\n",
       "      <td>0.022365</td>\n",
       "    </tr>\n",
       "    <tr>\n",
       "      <th>11</th>\n",
       "      <td>d21b8e6b</td>\n",
       "      <td>0.006990</td>\n",
       "    </tr>\n",
       "    <tr>\n",
       "      <th>12</th>\n",
       "      <td>2a724d87</td>\n",
       "      <td>0.006619</td>\n",
       "    </tr>\n",
       "    <tr>\n",
       "      <th>13</th>\n",
       "      <td>686c49c9</td>\n",
       "      <td>0.128627</td>\n",
       "    </tr>\n",
       "    <tr>\n",
       "      <th>14</th>\n",
       "      <td>a08d42ea</td>\n",
       "      <td>0.024080</td>\n",
       "    </tr>\n",
       "    <tr>\n",
       "      <th>15</th>\n",
       "      <td>c98f5cf1</td>\n",
       "      <td>0.061430</td>\n",
       "    </tr>\n",
       "    <tr>\n",
       "      <th>16</th>\n",
       "      <td>d614c608</td>\n",
       "      <td>0.005945</td>\n",
       "    </tr>\n",
       "    <tr>\n",
       "      <th>17</th>\n",
       "      <td>e45acd53</td>\n",
       "      <td>0.185042</td>\n",
       "    </tr>\n",
       "    <tr>\n",
       "      <th>18</th>\n",
       "      <td>7d876393</td>\n",
       "      <td>0.055093</td>\n",
       "    </tr>\n",
       "    <tr>\n",
       "      <th>19</th>\n",
       "      <td>f5af843f</td>\n",
       "      <td>0.054529</td>\n",
       "    </tr>\n",
       "    <tr>\n",
       "      <th>20</th>\n",
       "      <td>5a724794</td>\n",
       "      <td>0.042735</td>\n",
       "    </tr>\n",
       "    <tr>\n",
       "      <th>21</th>\n",
       "      <td>00091926</td>\n",
       "      <td>0.058333</td>\n",
       "    </tr>\n",
       "    <tr>\n",
       "      <th>22</th>\n",
       "      <td>55d1e0ee</td>\n",
       "      <td>0.035833</td>\n",
       "    </tr>\n",
       "    <tr>\n",
       "      <th>23</th>\n",
       "      <td>f87be219</td>\n",
       "      <td>0.003718</td>\n",
       "    </tr>\n",
       "    <tr>\n",
       "      <th>24</th>\n",
       "      <td>49c19e32</td>\n",
       "      <td>0.024287</td>\n",
       "    </tr>\n",
       "    <tr>\n",
       "      <th>25</th>\n",
       "      <td>bb78c182</td>\n",
       "      <td>0.007450</td>\n",
       "    </tr>\n",
       "    <tr>\n",
       "      <th>26</th>\n",
       "      <td>e2bfe05f</td>\n",
       "      <td>0.006595</td>\n",
       "    </tr>\n",
       "    <tr>\n",
       "      <th>27</th>\n",
       "      <td>0e9d0ae2</td>\n",
       "      <td>0.005285</td>\n",
       "    </tr>\n",
       "    <tr>\n",
       "      <th>28</th>\n",
       "      <td>cb68850c</td>\n",
       "      <td>0.006670</td>\n",
       "    </tr>\n",
       "    <tr>\n",
       "      <th>29</th>\n",
       "      <td>f30ef764</td>\n",
       "      <td>0.005828</td>\n",
       "    </tr>\n",
       "    <tr>\n",
       "      <th>...</th>\n",
       "      <td>...</td>\n",
       "      <td>...</td>\n",
       "    </tr>\n",
       "    <tr>\n",
       "      <th>19385</th>\n",
       "      <td>523c7e69</td>\n",
       "      <td>0.059750</td>\n",
       "    </tr>\n",
       "    <tr>\n",
       "      <th>19386</th>\n",
       "      <td>d2e564cb</td>\n",
       "      <td>0.055543</td>\n",
       "    </tr>\n",
       "    <tr>\n",
       "      <th>19387</th>\n",
       "      <td>eb27e544</td>\n",
       "      <td>0.065341</td>\n",
       "    </tr>\n",
       "    <tr>\n",
       "      <th>19388</th>\n",
       "      <td>b32e7113</td>\n",
       "      <td>0.086310</td>\n",
       "    </tr>\n",
       "    <tr>\n",
       "      <th>19389</th>\n",
       "      <td>a65f2cf0</td>\n",
       "      <td>0.070959</td>\n",
       "    </tr>\n",
       "    <tr>\n",
       "      <th>19390</th>\n",
       "      <td>a70b9f00</td>\n",
       "      <td>0.103305</td>\n",
       "    </tr>\n",
       "    <tr>\n",
       "      <th>19391</th>\n",
       "      <td>a161fd76</td>\n",
       "      <td>0.095942</td>\n",
       "    </tr>\n",
       "    <tr>\n",
       "      <th>19392</th>\n",
       "      <td>e9a4d3a8</td>\n",
       "      <td>0.082154</td>\n",
       "    </tr>\n",
       "    <tr>\n",
       "      <th>19393</th>\n",
       "      <td>24f53ba2</td>\n",
       "      <td>0.058686</td>\n",
       "    </tr>\n",
       "    <tr>\n",
       "      <th>19394</th>\n",
       "      <td>39cf8fa0</td>\n",
       "      <td>0.139029</td>\n",
       "    </tr>\n",
       "    <tr>\n",
       "      <th>19395</th>\n",
       "      <td>9ceab28a</td>\n",
       "      <td>0.147186</td>\n",
       "    </tr>\n",
       "    <tr>\n",
       "      <th>19396</th>\n",
       "      <td>f85da107</td>\n",
       "      <td>0.084590</td>\n",
       "    </tr>\n",
       "    <tr>\n",
       "      <th>19397</th>\n",
       "      <td>154d2935</td>\n",
       "      <td>0.125825</td>\n",
       "    </tr>\n",
       "    <tr>\n",
       "      <th>19398</th>\n",
       "      <td>3adf7ca4</td>\n",
       "      <td>0.102955</td>\n",
       "    </tr>\n",
       "    <tr>\n",
       "      <th>19399</th>\n",
       "      <td>2e89874a</td>\n",
       "      <td>0.078169</td>\n",
       "    </tr>\n",
       "    <tr>\n",
       "      <th>19400</th>\n",
       "      <td>ef4e52ab</td>\n",
       "      <td>0.083625</td>\n",
       "    </tr>\n",
       "    <tr>\n",
       "      <th>19401</th>\n",
       "      <td>85e0f62a</td>\n",
       "      <td>0.131754</td>\n",
       "    </tr>\n",
       "    <tr>\n",
       "      <th>19402</th>\n",
       "      <td>2c209f87</td>\n",
       "      <td>0.082154</td>\n",
       "    </tr>\n",
       "    <tr>\n",
       "      <th>19403</th>\n",
       "      <td>4ddb8c19</td>\n",
       "      <td>0.070959</td>\n",
       "    </tr>\n",
       "    <tr>\n",
       "      <th>19404</th>\n",
       "      <td>25bd8078</td>\n",
       "      <td>0.064111</td>\n",
       "    </tr>\n",
       "    <tr>\n",
       "      <th>19405</th>\n",
       "      <td>87d306fc</td>\n",
       "      <td>0.075290</td>\n",
       "    </tr>\n",
       "    <tr>\n",
       "      <th>19406</th>\n",
       "      <td>a2b1e355</td>\n",
       "      <td>0.081502</td>\n",
       "    </tr>\n",
       "    <tr>\n",
       "      <th>19407</th>\n",
       "      <td>fb88a7ea</td>\n",
       "      <td>0.145990</td>\n",
       "    </tr>\n",
       "    <tr>\n",
       "      <th>19408</th>\n",
       "      <td>9707cd0e</td>\n",
       "      <td>0.112704</td>\n",
       "    </tr>\n",
       "    <tr>\n",
       "      <th>19409</th>\n",
       "      <td>6f7632db</td>\n",
       "      <td>0.059750</td>\n",
       "    </tr>\n",
       "    <tr>\n",
       "      <th>19410</th>\n",
       "      <td>a1c2a901</td>\n",
       "      <td>0.058422</td>\n",
       "    </tr>\n",
       "    <tr>\n",
       "      <th>19411</th>\n",
       "      <td>ed3f80d7</td>\n",
       "      <td>0.085756</td>\n",
       "    </tr>\n",
       "    <tr>\n",
       "      <th>19412</th>\n",
       "      <td>92f2d94b</td>\n",
       "      <td>0.083625</td>\n",
       "    </tr>\n",
       "    <tr>\n",
       "      <th>19413</th>\n",
       "      <td>40bf23ab</td>\n",
       "      <td>0.086786</td>\n",
       "    </tr>\n",
       "    <tr>\n",
       "      <th>19414</th>\n",
       "      <td>80aea0a0</td>\n",
       "      <td>0.086786</td>\n",
       "    </tr>\n",
       "  </tbody>\n",
       "</table>\n",
       "<p>19415 rows × 2 columns</p>\n",
       "</div>"
      ],
      "text/plain": [
       "         person     label\n",
       "0      4886f805  0.004291\n",
       "1      0297fc1e  0.021283\n",
       "2      2d681dd8  0.010314\n",
       "3      cccea85e  0.081931\n",
       "4      4c8a8b93  0.026733\n",
       "5      29ebb414  0.006671\n",
       "6      3dc1950f  0.056805\n",
       "7      8ea4c165  0.037193\n",
       "8      d8cfe234  0.031736\n",
       "9      d6bc64df  0.052150\n",
       "10     ec9c4059  0.022365\n",
       "11     d21b8e6b  0.006990\n",
       "12     2a724d87  0.006619\n",
       "13     686c49c9  0.128627\n",
       "14     a08d42ea  0.024080\n",
       "15     c98f5cf1  0.061430\n",
       "16     d614c608  0.005945\n",
       "17     e45acd53  0.185042\n",
       "18     7d876393  0.055093\n",
       "19     f5af843f  0.054529\n",
       "20     5a724794  0.042735\n",
       "21     00091926  0.058333\n",
       "22     55d1e0ee  0.035833\n",
       "23     f87be219  0.003718\n",
       "24     49c19e32  0.024287\n",
       "25     bb78c182  0.007450\n",
       "26     e2bfe05f  0.006595\n",
       "27     0e9d0ae2  0.005285\n",
       "28     cb68850c  0.006670\n",
       "29     f30ef764  0.005828\n",
       "...         ...       ...\n",
       "19385  523c7e69  0.059750\n",
       "19386  d2e564cb  0.055543\n",
       "19387  eb27e544  0.065341\n",
       "19388  b32e7113  0.086310\n",
       "19389  a65f2cf0  0.070959\n",
       "19390  a70b9f00  0.103305\n",
       "19391  a161fd76  0.095942\n",
       "19392  e9a4d3a8  0.082154\n",
       "19393  24f53ba2  0.058686\n",
       "19394  39cf8fa0  0.139029\n",
       "19395  9ceab28a  0.147186\n",
       "19396  f85da107  0.084590\n",
       "19397  154d2935  0.125825\n",
       "19398  3adf7ca4  0.102955\n",
       "19399  2e89874a  0.078169\n",
       "19400  ef4e52ab  0.083625\n",
       "19401  85e0f62a  0.131754\n",
       "19402  2c209f87  0.082154\n",
       "19403  4ddb8c19  0.070959\n",
       "19404  25bd8078  0.064111\n",
       "19405  87d306fc  0.075290\n",
       "19406  a2b1e355  0.081502\n",
       "19407  fb88a7ea  0.145990\n",
       "19408  9707cd0e  0.112704\n",
       "19409  6f7632db  0.059750\n",
       "19410  a1c2a901  0.058422\n",
       "19411  ed3f80d7  0.085756\n",
       "19412  92f2d94b  0.083625\n",
       "19413  40bf23ab  0.086786\n",
       "19414  80aea0a0  0.086786\n",
       "\n",
       "[19415 rows x 2 columns]"
      ]
     },
     "execution_count": 57,
     "metadata": {},
     "output_type": "execute_result"
    }
   ],
   "source": [
    "pd.read_csv('submit_predicciones.csv')"
   ]
  },
  {
   "cell_type": "code",
   "execution_count": null,
   "metadata": {},
   "outputs": [],
   "source": []
  }
 ],
 "metadata": {
  "kernelspec": {
   "display_name": "Python 3",
   "language": "python",
   "name": "python3"
  },
  "language_info": {
   "codemirror_mode": {
    "name": "ipython",
    "version": 3
   },
   "file_extension": ".py",
   "mimetype": "text/x-python",
   "name": "python",
   "nbconvert_exporter": "python",
   "pygments_lexer": "ipython3",
   "version": "3.6.5"
  }
 },
 "nbformat": 4,
 "nbformat_minor": 2
}
