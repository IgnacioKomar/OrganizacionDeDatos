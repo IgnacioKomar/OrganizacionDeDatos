{
 "cells": [
  {
   "cell_type": "code",
   "execution_count": 1,
   "metadata": {},
   "outputs": [],
   "source": [
    "import pandas as pd\n",
    "import numpy as np\n",
    "import matplotlib.pyplot as plt\n",
    "import seaborn as sns"
   ]
  },
  {
   "cell_type": "code",
   "execution_count": 2,
   "metadata": {},
   "outputs": [
    {
     "name": "stderr",
     "output_type": "stream",
     "text": [
      "c:\\users\\ignacio\\appdata\\local\\programs\\python\\python36\\lib\\site-packages\\IPython\\core\\interactiveshell.py:2785: DtypeWarning: Columns (3,5,6,7,8,9,10,11,12,13,14,15,16,17,18,19,20,21,22) have mixed types. Specify dtype option on import or set low_memory=False.\n",
      "  interactivity=interactivity, compiler=compiler, result=result)\n"
     ]
    }
   ],
   "source": [
    "dfE = pd.read_csv('events_up_to_01062018.csv')\n",
    "dfT = pd.read_csv('labels_training_set.csv')"
   ]
  },
  {
   "cell_type": "code",
   "execution_count": 3,
   "metadata": {},
   "outputs": [],
   "source": [
    "#OHE a columna event\n",
    "dfD = dfE[['person', 'event']]\n",
    "dfD = pd.get_dummies(dfD, columns=['event']).groupby('person').sum()"
   ]
  },
  {
   "cell_type": "code",
   "execution_count": 4,
   "metadata": {},
   "outputs": [],
   "source": [
    "#le agrego las features de event a las labels\n",
    "dfTD = dfT.sort_values('person').merge(dfD, on='person')"
   ]
  },
  {
   "cell_type": "code",
   "execution_count": 5,
   "metadata": {},
   "outputs": [],
   "source": [
    "#Agrego columna con ultima visita al sitio\n",
    "temp = dfE.groupby('person')['timestamp'].max().to_frame()\n",
    "dfTDb = dfTD.merge(temp, on='person')\n",
    "dfTDb['month'] = dfTDb['timestamp'].str[5:7]\n",
    "dfTDb['day'] = dfTDb['timestamp'].str[8:10]\n",
    "dfTDb[['day','month']] = dfTDb[['day','month']].apply(pd.to_numeric)\n",
    "dfTDb['last_visit'] = dfTDb['month']*30 + dfTDb['day']\n",
    "dfTDb = dfTDb.drop(['timestamp','month','day'], axis=1)"
   ]
  },
  {
   "cell_type": "code",
   "execution_count": 6,
   "metadata": {},
   "outputs": [],
   "source": [
    "#Agrego columna con ultima compra\n",
    "temp = dfE.loc[dfE['event'] == 'conversion'].groupby('person')['timestamp'].max().to_frame()\n",
    "dfTDc = dfTDb.merge(temp, how='left', on='person')\n",
    "dfTDc = dfTDc.fillna('000000000000000000')\n",
    "dfTDc['month'] = dfTDc['timestamp'].str[5:7]\n",
    "dfTDc['day'] = dfTDc['timestamp'].str[8:10]\n",
    "dfTDc[['day','month']] = dfTDc[['day','month']].apply(pd.to_numeric)\n",
    "dfTDc['last_conversion'] = dfTDc['month']*30 + dfTDc['day']\n",
    "dfTDc = dfTDc.drop(['timestamp','month','day'], axis=1)"
   ]
  },
  {
   "cell_type": "code",
   "execution_count": 7,
   "metadata": {},
   "outputs": [
    {
     "data": {
      "text/plain": [
       "0.8545760253915411"
      ]
     },
     "execution_count": 7,
     "metadata": {},
     "output_type": "execute_result"
    }
   ],
   "source": [
    "from sklearn.ensemble import GradientBoostingClassifier\n",
    "from sklearn.model_selection import cross_val_score\n",
    "\n",
    "df_y = dfTDc['label']\n",
    "df_X = dfTDc.drop(['person', 'label'], axis=1)\n",
    "\n",
    "GBC = GradientBoostingClassifier(random_state=23,learning_rate=0.06,subsample=0.75, min_samples_split=8)\n",
    "scores = cross_val_score(GBC , df_X, df_y, scoring=\"roc_auc\", cv=5)\n",
    "scores.mean()"
   ]
  },
  {
   "cell_type": "code",
   "execution_count": null,
   "metadata": {},
   "outputs": [],
   "source": []
  }
 ],
 "metadata": {
  "kernelspec": {
   "display_name": "Python 3",
   "language": "python",
   "name": "python3"
  },
  "language_info": {
   "codemirror_mode": {
    "name": "ipython",
    "version": 3
   },
   "file_extension": ".py",
   "mimetype": "text/x-python",
   "name": "python",
   "nbconvert_exporter": "python",
   "pygments_lexer": "ipython3",
   "version": "3.6.0"
  }
 },
 "nbformat": 4,
 "nbformat_minor": 2
}
