{
 "cells": [
  {
   "cell_type": "code",
   "execution_count": 1,
   "metadata": {},
   "outputs": [
    {
     "name": "stderr",
     "output_type": "stream",
     "text": [
      "/home/soledad-escobar/anaconda3/lib/python3.6/site-packages/IPython/core/interactiveshell.py:2785: DtypeWarning: Columns (4) have mixed types. Specify dtype option on import or set low_memory=False.\n",
      "  interactivity=interactivity, compiler=compiler, result=result)\n"
     ]
    }
   ],
   "source": [
    "import pandas as pd\n",
    "import numpy as np\n",
    "import matplotlib.pyplot as plt\n",
    "import seaborn as sns\n",
    "\n",
    "datos_completo = pd.read_csv('events.csv')"
   ]
  },
  {
   "cell_type": "code",
   "execution_count": 2,
   "metadata": {},
   "outputs": [
    {
     "data": {
      "text/plain": [
       "(1011288, 23)"
      ]
     },
     "execution_count": 2,
     "metadata": {},
     "output_type": "execute_result"
    }
   ],
   "source": [
    "datos_completo.shape"
   ]
  },
  {
   "cell_type": "code",
   "execution_count": 3,
   "metadata": {},
   "outputs": [
    {
     "name": "stdout",
     "output_type": "stream",
     "text": [
      "<class 'pandas.core.frame.DataFrame'>\n",
      "RangeIndex: 1011288 entries, 0 to 1011287\n",
      "Data columns (total 23 columns):\n",
      "timestamp                   1011288 non-null object\n",
      "event                       1011288 non-null object\n",
      "person                      1011288 non-null object\n",
      "url                         82756 non-null object\n",
      "sku                         563838 non-null object\n",
      "model                       564284 non-null object\n",
      "condition                   563836 non-null object\n",
      "storage                     563836 non-null object\n",
      "color                       563836 non-null object\n",
      "skus                        221699 non-null object\n",
      "search_term                 48967 non-null object\n",
      "staticpage                  3598 non-null object\n",
      "campaign_source             82796 non-null object\n",
      "search_engine               50957 non-null object\n",
      "channel                     87378 non-null object\n",
      "new_vs_returning            87378 non-null object\n",
      "city                        87378 non-null object\n",
      "region                      87378 non-null object\n",
      "country                     87378 non-null object\n",
      "device_type                 87378 non-null object\n",
      "screen_resolution           87378 non-null object\n",
      "operating_system_version    87378 non-null object\n",
      "browser_version             87378 non-null object\n",
      "dtypes: object(23)\n",
      "memory usage: 177.5+ MB\n"
     ]
    }
   ],
   "source": [
    "datos_completo.info()"
   ]
  },
  {
   "cell_type": "code",
   "execution_count": 4,
   "metadata": {},
   "outputs": [
    {
     "data": {
      "text/plain": [
       "viewed product       528931\n",
       "brand listing         98635\n",
       "visited site          87378\n",
       "ad campaign hit       82827\n",
       "generic listing       67534\n",
       "searched products     56073\n",
       "search engine hit     50957\n",
       "checkout              33735\n",
       "staticpage             3598\n",
       "conversion             1172\n",
       "lead                    448\n",
       "Name: event, dtype: int64"
      ]
     },
     "execution_count": 4,
     "metadata": {},
     "output_type": "execute_result"
    }
   ],
   "source": [
    "eventos = datos_completo['event']\n",
    "eventos.value_counts()"
   ]
  },
  {
   "cell_type": "code",
   "execution_count": 5,
   "metadata": {},
   "outputs": [
    {
     "data": {
      "text/plain": [
       "<matplotlib.axes._subplots.AxesSubplot at 0x7f91c5c79748>"
      ]
     },
     "execution_count": 5,
     "metadata": {},
     "output_type": "execute_result"
    },
    {
     "data": {
      "image/png": "[encoded data removed]",
      "text/plain": [
       "<Figure size 432x288 with 1 Axes>"
      ]
     },
     "metadata": {},
     "output_type": "display_data"
    }
   ],
   "source": [
    "grupo_eventos=datos_completo.groupby(['event'])['event'].count().sort_values()\n",
    "d=grupo_eventos.plot(kind='bar', title=\"Cantidad de eventos por tipo\")\n",
    "d.set_ylabel(\"Numero de eventos\")\n",
    "d.set_xlabel(\"Tipo de eventos\")\n",
    "d"
   ]
  },
  {
   "cell_type": "code",
   "execution_count": null,
   "metadata": {},
   "outputs": [],
   "source": []
  },
  {
   "cell_type": "code",
   "execution_count": 6,
   "metadata": {},
   "outputs": [
    {
     "data": {
      "text/plain": [
       "Brazil           25768\n",
       "Unknown            716\n",
       "United States      297\n",
       "Argentina           24\n",
       "Canada              10\n",
       "Name: country, dtype: int64"
      ]
     },
     "execution_count": 6,
     "metadata": {},
     "output_type": "execute_result"
    }
   ],
   "source": [
    "#veamos de donde provienen los usuarios del sitio\n",
    "df_con_region = datos_completo.loc[pd.notnull(datos_completo['region'])] #saco los que no tienen region\n",
    "df_personas_con_region = df_con_region.drop_duplicates(subset='person') #saco todos los duplicados de cada usuario\n",
    "paises_por_cada_usuario = df_personas_con_region['country']\n",
    "paises_por_cada_usuario.value_counts().head()"
   ]
  },
  {
   "cell_type": "code",
   "execution_count": 7,
   "metadata": {},
   "outputs": [
    {
     "data": {
      "text/plain": [
       "São Paulo         3532\n",
       "Rio de Janeiro    1153\n",
       "Belo Horizonte     748\n",
       "Salvador           746\n",
       "Brasília           452\n",
       "Fortaleza          375\n",
       "Curitiba           370\n",
       "Recife             307\n",
       "Osasco             282\n",
       "Porto Alegre       281\n",
       "Name: city, dtype: int64"
      ]
     },
     "execution_count": 7,
     "metadata": {},
     "output_type": "execute_result"
    }
   ],
   "source": [
    "#analizamos las ciudades de Brasil donde estan la gran mayoria de los usuarios\n",
    "df_usuarios_brasil = df_personas_con_region.loc[df_personas_con_region['country'] == 'Brazil']\n",
    "ciudades_usuarios_brasil = df_usuarios_brasil['city']\n",
    "cantidad_de_usuarios_brasil_por_ciudad = ciudades_usuarios_brasil.value_counts()[1:11] #Saco a Unknown\n",
    "cantidad_de_usuarios_brasil_por_ciudad"
   ]
  },
  {
   "cell_type": "code",
   "execution_count": 8,
   "metadata": {},
   "outputs": [
    {
     "data": {
      "text/plain": [
       "Text(0,0.5,'Cantidad de usuarios')"
      ]
     },
     "execution_count": 8,
     "metadata": {},
     "output_type": "execute_result"
    },
    {
     "data": {
      "image/png": "[encoded data removed]",
      "text/plain": [
       "<Figure size 1008x576 with 1 Axes>"
      ]
     },
     "metadata": {},
     "output_type": "display_data"
    }
   ],
   "source": [
    "plt.subplots(figsize=(14,8))\n",
    "bp = sns.barplot(x=cantidad_de_usuarios_brasil_por_ciudad.index, y= cantidad_de_usuarios_brasil_por_ciudad.values)\n",
    "bp.set_title(\"Ciudades con mas usuarios\", fontsize=18)\n",
    "bp.set_xlabel(\"Ciudades\", fontsize=15)\n",
    "bp.set_ylabel(\"Cantidad de usuarios\", fontsize=15)"
   ]
  },
  {
   "cell_type": "code",
   "execution_count": null,
   "metadata": {},
   "outputs": [],
   "source": []
  },
  {
   "cell_type": "code",
   "execution_count": 10,
   "metadata": {
    "scrolled": true
   },
   "outputs": [
    {
     "data": {
      "text/html": [
       "<div>\n",
       "<style scoped>\n",
       "    .dataframe tbody tr th:only-of-type {\n",
       "        vertical-align: middle;\n",
       "    }\n",
       "\n",
       "    .dataframe tbody tr th {\n",
       "        vertical-align: top;\n",
       "    }\n",
       "\n",
       "    .dataframe thead th {\n",
       "        text-align: right;\n",
       "    }\n",
       "</style>\n",
       "<table border=\"1\" class=\"dataframe\">\n",
       "  <thead>\n",
       "    <tr style=\"text-align: right;\">\n",
       "      <th></th>\n",
       "      <th>timestamp_x</th>\n",
       "      <th>event_x</th>\n",
       "      <th>person</th>\n",
       "      <th>url_x</th>\n",
       "      <th>sku_x</th>\n",
       "      <th>model_x</th>\n",
       "      <th>condition_x</th>\n",
       "      <th>storage_x</th>\n",
       "      <th>color_x</th>\n",
       "      <th>skus_x</th>\n",
       "      <th>...</th>\n",
       "      <th>search_engine_y</th>\n",
       "      <th>channel_y</th>\n",
       "      <th>new_vs_returning_y</th>\n",
       "      <th>city_y</th>\n",
       "      <th>region_y</th>\n",
       "      <th>country_y</th>\n",
       "      <th>device_type_y</th>\n",
       "      <th>screen_resolution_y</th>\n",
       "      <th>operating_system_version_y</th>\n",
       "      <th>browser_version_y</th>\n",
       "    </tr>\n",
       "  </thead>\n",
       "  <tbody>\n",
       "    <tr>\n",
       "      <th>0</th>\n",
       "      <td>2018-03-20 17:46:12</td>\n",
       "      <td>conversion</td>\n",
       "      <td>00204059</td>\n",
       "      <td>NaN</td>\n",
       "      <td>3084</td>\n",
       "      <td>Motorola Moto X2</td>\n",
       "      <td>Muito Bom</td>\n",
       "      <td>32GB</td>\n",
       "      <td>Couro Vintage</td>\n",
       "      <td>NaN</td>\n",
       "      <td>...</td>\n",
       "      <td>NaN</td>\n",
       "      <td>NaN</td>\n",
       "      <td>NaN</td>\n",
       "      <td>NaN</td>\n",
       "      <td>NaN</td>\n",
       "      <td>NaN</td>\n",
       "      <td>NaN</td>\n",
       "      <td>NaN</td>\n",
       "      <td>NaN</td>\n",
       "      <td>NaN</td>\n",
       "    </tr>\n",
       "    <tr>\n",
       "      <th>1</th>\n",
       "      <td>2018-03-20 17:46:12</td>\n",
       "      <td>conversion</td>\n",
       "      <td>00204059</td>\n",
       "      <td>NaN</td>\n",
       "      <td>3084</td>\n",
       "      <td>Motorola Moto X2</td>\n",
       "      <td>Muito Bom</td>\n",
       "      <td>32GB</td>\n",
       "      <td>Couro Vintage</td>\n",
       "      <td>NaN</td>\n",
       "      <td>...</td>\n",
       "      <td>NaN</td>\n",
       "      <td>NaN</td>\n",
       "      <td>NaN</td>\n",
       "      <td>NaN</td>\n",
       "      <td>NaN</td>\n",
       "      <td>NaN</td>\n",
       "      <td>NaN</td>\n",
       "      <td>NaN</td>\n",
       "      <td>NaN</td>\n",
       "      <td>NaN</td>\n",
       "    </tr>\n",
       "    <tr>\n",
       "      <th>2</th>\n",
       "      <td>2018-03-20 17:46:12</td>\n",
       "      <td>conversion</td>\n",
       "      <td>00204059</td>\n",
       "      <td>NaN</td>\n",
       "      <td>3084</td>\n",
       "      <td>Motorola Moto X2</td>\n",
       "      <td>Muito Bom</td>\n",
       "      <td>32GB</td>\n",
       "      <td>Couro Vintage</td>\n",
       "      <td>NaN</td>\n",
       "      <td>...</td>\n",
       "      <td>NaN</td>\n",
       "      <td>NaN</td>\n",
       "      <td>NaN</td>\n",
       "      <td>NaN</td>\n",
       "      <td>NaN</td>\n",
       "      <td>NaN</td>\n",
       "      <td>NaN</td>\n",
       "      <td>NaN</td>\n",
       "      <td>NaN</td>\n",
       "      <td>NaN</td>\n",
       "    </tr>\n",
       "    <tr>\n",
       "      <th>3</th>\n",
       "      <td>2018-03-20 17:46:12</td>\n",
       "      <td>conversion</td>\n",
       "      <td>00204059</td>\n",
       "      <td>NaN</td>\n",
       "      <td>3084</td>\n",
       "      <td>Motorola Moto X2</td>\n",
       "      <td>Muito Bom</td>\n",
       "      <td>32GB</td>\n",
       "      <td>Couro Vintage</td>\n",
       "      <td>NaN</td>\n",
       "      <td>...</td>\n",
       "      <td>NaN</td>\n",
       "      <td>NaN</td>\n",
       "      <td>NaN</td>\n",
       "      <td>NaN</td>\n",
       "      <td>NaN</td>\n",
       "      <td>NaN</td>\n",
       "      <td>NaN</td>\n",
       "      <td>NaN</td>\n",
       "      <td>NaN</td>\n",
       "      <td>NaN</td>\n",
       "    </tr>\n",
       "    <tr>\n",
       "      <th>4</th>\n",
       "      <td>2018-03-20 17:46:12</td>\n",
       "      <td>conversion</td>\n",
       "      <td>00204059</td>\n",
       "      <td>NaN</td>\n",
       "      <td>3084</td>\n",
       "      <td>Motorola Moto X2</td>\n",
       "      <td>Muito Bom</td>\n",
       "      <td>32GB</td>\n",
       "      <td>Couro Vintage</td>\n",
       "      <td>NaN</td>\n",
       "      <td>...</td>\n",
       "      <td>NaN</td>\n",
       "      <td>NaN</td>\n",
       "      <td>NaN</td>\n",
       "      <td>NaN</td>\n",
       "      <td>NaN</td>\n",
       "      <td>NaN</td>\n",
       "      <td>NaN</td>\n",
       "      <td>NaN</td>\n",
       "      <td>NaN</td>\n",
       "      <td>NaN</td>\n",
       "    </tr>\n",
       "  </tbody>\n",
       "</table>\n",
       "<p>5 rows × 45 columns</p>\n",
       "</div>"
      ],
      "text/plain": [
       "           timestamp_x     event_x    person url_x sku_x           model_x  \\\n",
       "0  2018-03-20 17:46:12  conversion  00204059   NaN  3084  Motorola Moto X2   \n",
       "1  2018-03-20 17:46:12  conversion  00204059   NaN  3084  Motorola Moto X2   \n",
       "2  2018-03-20 17:46:12  conversion  00204059   NaN  3084  Motorola Moto X2   \n",
       "3  2018-03-20 17:46:12  conversion  00204059   NaN  3084  Motorola Moto X2   \n",
       "4  2018-03-20 17:46:12  conversion  00204059   NaN  3084  Motorola Moto X2   \n",
       "\n",
       "  condition_x storage_x        color_x skus_x        ...         \\\n",
       "0   Muito Bom      32GB  Couro Vintage    NaN        ...          \n",
       "1   Muito Bom      32GB  Couro Vintage    NaN        ...          \n",
       "2   Muito Bom      32GB  Couro Vintage    NaN        ...          \n",
       "3   Muito Bom      32GB  Couro Vintage    NaN        ...          \n",
       "4   Muito Bom      32GB  Couro Vintage    NaN        ...          \n",
       "\n",
       "  search_engine_y channel_y new_vs_returning_y city_y region_y country_y  \\\n",
       "0             NaN       NaN                NaN    NaN      NaN       NaN   \n",
       "1             NaN       NaN                NaN    NaN      NaN       NaN   \n",
       "2             NaN       NaN                NaN    NaN      NaN       NaN   \n",
       "3             NaN       NaN                NaN    NaN      NaN       NaN   \n",
       "4             NaN       NaN                NaN    NaN      NaN       NaN   \n",
       "\n",
       "  device_type_y screen_resolution_y operating_system_version_y  \\\n",
       "0           NaN                 NaN                        NaN   \n",
       "1           NaN                 NaN                        NaN   \n",
       "2           NaN                 NaN                        NaN   \n",
       "3           NaN                 NaN                        NaN   \n",
       "4           NaN                 NaN                        NaN   \n",
       "\n",
       "  browser_version_y  \n",
       "0               NaN  \n",
       "1               NaN  \n",
       "2               NaN  \n",
       "3               NaN  \n",
       "4               NaN  \n",
       "\n",
       "[5 rows x 45 columns]"
      ]
     },
     "execution_count": 10,
     "metadata": {},
     "output_type": "execute_result"
    }
   ],
   "source": [
    "#personas que realizaron checkouts y conversiones \n",
    "events = datos_completo.groupby('event')\n",
    "vieweds = pd.DataFrame(events.get_group('viewed product'))\n",
    "checkouts =pd.DataFrame(events.get_group('checkout'))\n",
    "conversiones = pd.DataFrame(events.get_group('conversion'))\n",
    "viewed_checkout = pd.merge(checkouts, vieweds, on = 'person', how = 'inner')\n",
    "checkout_conversion = pd.merge(conversiones, checkouts, on = 'person', how = 'inner')\n",
    "checkout_conversion.head()"
   ]
  },
  {
   "cell_type": "code",
   "execution_count": 11,
   "metadata": {},
   "outputs": [],
   "source": [
    "# Identifico los ids de los modelos buscados\n",
    "#PD: ES HORRIBLE, SI A ALGUIEN SE LE OCURRE COMO HACERLO MEJOR SIENTASE LIBRE DE MEJORARLO\n",
    "searched =pd.DataFrame(events.get_group('searched products'))\n",
    "searched_skus = searched['skus'].value_counts()\n",
    "skus_list = []\n",
    "for skus in searched_skus.index:\n",
    "    for sku in str(skus).split(','):\n",
    "        skus_list.append(sku)\n",
    "id_modelos_buscados = pd.DataFrame(skus_list)\n",
    "id_modelos_buscados.columns = ['sku']\n"
   ]
  },
  {
   "cell_type": "code",
   "execution_count": 12,
   "metadata": {},
   "outputs": [
    {
     "data": {
      "text/plain": [
       "iPhone 6             30165\n",
       "iPhone 5s            18197\n",
       "iPhone SE             9452\n",
       "iPhone 6S             9088\n",
       "Samsung Galaxy S7     8812\n",
       "Name: model, dtype: int64"
      ]
     },
     "execution_count": 12,
     "metadata": {},
     "output_type": "execute_result"
    }
   ],
   "source": [
    "modelos_existentes = pd.DataFrame(datos_completo.filter(items = ['sku', 'model']))\n",
    "modelos_existentes.head()\n",
    "buscados_vs_existentes = pd.merge(id_modelos_buscados, modelos_existentes, on = 'sku', how = 'left')\n",
    "buscados_vs_existentes['model'].value_counts().head()"
   ]
  },
  {
   "cell_type": "code",
   "execution_count": 13,
   "metadata": {},
   "outputs": [
    {
     "data": {
      "text/html": [
       "<div>\n",
       "<style scoped>\n",
       "    .dataframe tbody tr th:only-of-type {\n",
       "        vertical-align: middle;\n",
       "    }\n",
       "\n",
       "    .dataframe tbody tr th {\n",
       "        vertical-align: top;\n",
       "    }\n",
       "\n",
       "    .dataframe thead th {\n",
       "        text-align: right;\n",
       "    }\n",
       "</style>\n",
       "<table border=\"1\" class=\"dataframe\">\n",
       "  <thead>\n",
       "    <tr style=\"text-align: right;\">\n",
       "      <th></th>\n",
       "      <th>sku</th>\n",
       "      <th>model</th>\n",
       "    </tr>\n",
       "  </thead>\n",
       "  <tbody>\n",
       "    <tr>\n",
       "      <th>0</th>\n",
       "      <td>8485</td>\n",
       "      <td>Samsung Galaxy S7</td>\n",
       "    </tr>\n",
       "    <tr>\n",
       "      <th>1</th>\n",
       "      <td>8485</td>\n",
       "      <td>Samsung Galaxy S7</td>\n",
       "    </tr>\n",
       "    <tr>\n",
       "      <th>2</th>\n",
       "      <td>8485</td>\n",
       "      <td>Samsung Galaxy S7</td>\n",
       "    </tr>\n",
       "    <tr>\n",
       "      <th>3</th>\n",
       "      <td>8485</td>\n",
       "      <td>Samsung Galaxy S7</td>\n",
       "    </tr>\n",
       "    <tr>\n",
       "      <th>4</th>\n",
       "      <td>8485</td>\n",
       "      <td>Samsung Galaxy S7</td>\n",
       "    </tr>\n",
       "  </tbody>\n",
       "</table>\n",
       "</div>"
      ],
      "text/plain": [
       "    sku              model\n",
       "0  8485  Samsung Galaxy S7\n",
       "1  8485  Samsung Galaxy S7\n",
       "2  8485  Samsung Galaxy S7\n",
       "3  8485  Samsung Galaxy S7\n",
       "4  8485  Samsung Galaxy S7"
      ]
     },
     "execution_count": 13,
     "metadata": {},
     "output_type": "execute_result"
    }
   ],
   "source": [
    "# Comparo si hay modelos disponibles que no sean hayan sido buscados\n",
    "buscados_vs_existentes = pd.merge(id_modelos_buscados, modelos_existentes, on = 'sku', how = 'right')\n",
    "buscados_vs_existentes.head()"
   ]
  },
  {
   "cell_type": "code",
   "execution_count": 14,
   "metadata": {},
   "outputs": [
    {
     "data": {
      "text/plain": [
       "Text(0,0.5,'Cantidad de conversiones')"
      ]
     },
     "execution_count": 14,
     "metadata": {},
     "output_type": "execute_result"
    },
    {
     "data": {
      "image/png": "[encoded data removed]",
      "text/plain": [
       "<Figure size 432x288 with 1 Axes>"
      ]
     },
     "metadata": {},
     "output_type": "display_data"
    }
   ],
   "source": [
    "#Quiero ver en que condicion estan los productos dentro de las conversiones\n",
    "condiciones = conversiones['condition'].value_counts()\n",
    "graph = sns.barplot(x=condiciones.index, y= condiciones.values)\n",
    "graph.set_title(\"Condición de los productos segun la cantidad de conversiones\", fontsize=18)\n",
    "graph.set_xlabel(\"Condición de producto\", fontsize=15)\n",
    "graph.set_ylabel(\"Cantidad de conversiones\", fontsize=15)"
   ]
  },
  {
   "cell_type": "code",
   "execution_count": 20,
   "metadata": {},
   "outputs": [],
   "source": [
    "conteoDePersonas = datos_completo.groupby(['timestamp', 'event']).count()"
   ]
  },
  {
   "cell_type": "code",
   "execution_count": 28,
   "metadata": {},
   "outputs": [],
   "source": [
    "contEvents = conteoDePersonas.pivot_table(index = 'timestamp', columns = 'event', values = 'person')\n",
    "contEvents.groupby('timestamp').head()\n",
    "persEvent = contEvents.fillna(0)\n",
    "new1 = persEvent.reset_index()\n",
    "new1['timestamp'] = pd.to_datetime(new1['timestamp'], format='%Y%m%d %H:%M:%S.%f')\n",
    "new1['mes'] = new1['timestamp'].dt.month\n",
    "new1['dia'] = new1['timestamp'].dt.day\n",
    "# Calculo el promedio de personas que asisten a eventos \n",
    "new1['pers_en_event'] = new1.filter(items = ['ad campaign hit', 'brand listing','checkout', 'conversion', 'generic listing','lead', 'search engine hit', 'searched products', 'staticpage', 'viewed product', 'visited site']).sum(axis = 1)\n",
    "\n"
   ]
  },
  {
   "cell_type": "code",
   "execution_count": 29,
   "metadata": {},
   "outputs": [
    {
     "data": {
      "text/html": [
       "<div>\n",
       "<style scoped>\n",
       "    .dataframe tbody tr th:only-of-type {\n",
       "        vertical-align: middle;\n",
       "    }\n",
       "\n",
       "    .dataframe tbody tr th {\n",
       "        vertical-align: top;\n",
       "    }\n",
       "\n",
       "    .dataframe thead th {\n",
       "        text-align: right;\n",
       "    }\n",
       "</style>\n",
       "<table border=\"1\" class=\"dataframe\">\n",
       "  <thead>\n",
       "    <tr style=\"text-align: right;\">\n",
       "      <th>dia</th>\n",
       "      <th>1</th>\n",
       "      <th>2</th>\n",
       "      <th>3</th>\n",
       "      <th>4</th>\n",
       "      <th>5</th>\n",
       "      <th>6</th>\n",
       "      <th>7</th>\n",
       "      <th>8</th>\n",
       "      <th>9</th>\n",
       "      <th>10</th>\n",
       "      <th>...</th>\n",
       "      <th>22</th>\n",
       "      <th>23</th>\n",
       "      <th>24</th>\n",
       "      <th>25</th>\n",
       "      <th>26</th>\n",
       "      <th>27</th>\n",
       "      <th>28</th>\n",
       "      <th>29</th>\n",
       "      <th>30</th>\n",
       "      <th>31</th>\n",
       "    </tr>\n",
       "    <tr>\n",
       "      <th>mes</th>\n",
       "      <th></th>\n",
       "      <th></th>\n",
       "      <th></th>\n",
       "      <th></th>\n",
       "      <th></th>\n",
       "      <th></th>\n",
       "      <th></th>\n",
       "      <th></th>\n",
       "      <th></th>\n",
       "      <th></th>\n",
       "      <th></th>\n",
       "      <th></th>\n",
       "      <th></th>\n",
       "      <th></th>\n",
       "      <th></th>\n",
       "      <th></th>\n",
       "      <th></th>\n",
       "      <th></th>\n",
       "      <th></th>\n",
       "      <th></th>\n",
       "      <th></th>\n",
       "    </tr>\n",
       "  </thead>\n",
       "  <tbody>\n",
       "    <tr>\n",
       "      <th>1</th>\n",
       "      <td>0.000000</td>\n",
       "      <td>0.000000</td>\n",
       "      <td>0.000000</td>\n",
       "      <td>0.004950</td>\n",
       "      <td>0.004237</td>\n",
       "      <td>0.000000</td>\n",
       "      <td>0.006192</td>\n",
       "      <td>0.007916</td>\n",
       "      <td>0.004695</td>\n",
       "      <td>0.008772</td>\n",
       "      <td>...</td>\n",
       "      <td>0.004161</td>\n",
       "      <td>0.005457</td>\n",
       "      <td>0.003231</td>\n",
       "      <td>0.002584</td>\n",
       "      <td>0.000000</td>\n",
       "      <td>0.001600</td>\n",
       "      <td>0.000000</td>\n",
       "      <td>0.001733</td>\n",
       "      <td>0.003072</td>\n",
       "      <td>0.012442</td>\n",
       "    </tr>\n",
       "    <tr>\n",
       "      <th>2</th>\n",
       "      <td>0.012862</td>\n",
       "      <td>0.004673</td>\n",
       "      <td>0.007260</td>\n",
       "      <td>0.000000</td>\n",
       "      <td>0.006211</td>\n",
       "      <td>0.000000</td>\n",
       "      <td>0.000000</td>\n",
       "      <td>0.005415</td>\n",
       "      <td>0.010399</td>\n",
       "      <td>0.004959</td>\n",
       "      <td>...</td>\n",
       "      <td>0.005988</td>\n",
       "      <td>0.001446</td>\n",
       "      <td>0.005362</td>\n",
       "      <td>0.002899</td>\n",
       "      <td>0.003263</td>\n",
       "      <td>0.004196</td>\n",
       "      <td>0.001426</td>\n",
       "      <td>NaN</td>\n",
       "      <td>NaN</td>\n",
       "      <td>NaN</td>\n",
       "    </tr>\n",
       "    <tr>\n",
       "      <th>3</th>\n",
       "      <td>0.003475</td>\n",
       "      <td>0.003785</td>\n",
       "      <td>0.001654</td>\n",
       "      <td>0.005365</td>\n",
       "      <td>0.004127</td>\n",
       "      <td>0.006806</td>\n",
       "      <td>0.002208</td>\n",
       "      <td>0.001702</td>\n",
       "      <td>0.000678</td>\n",
       "      <td>0.008588</td>\n",
       "      <td>...</td>\n",
       "      <td>0.004408</td>\n",
       "      <td>0.004779</td>\n",
       "      <td>0.001837</td>\n",
       "      <td>0.003337</td>\n",
       "      <td>0.005793</td>\n",
       "      <td>0.004022</td>\n",
       "      <td>0.003035</td>\n",
       "      <td>0.002040</td>\n",
       "      <td>0.005188</td>\n",
       "      <td>0.003492</td>\n",
       "    </tr>\n",
       "    <tr>\n",
       "      <th>4</th>\n",
       "      <td>0.001835</td>\n",
       "      <td>0.002892</td>\n",
       "      <td>0.005178</td>\n",
       "      <td>0.004289</td>\n",
       "      <td>0.002883</td>\n",
       "      <td>0.001470</td>\n",
       "      <td>0.001516</td>\n",
       "      <td>0.003844</td>\n",
       "      <td>0.003665</td>\n",
       "      <td>0.001529</td>\n",
       "      <td>...</td>\n",
       "      <td>0.002334</td>\n",
       "      <td>0.003119</td>\n",
       "      <td>0.002047</td>\n",
       "      <td>0.002115</td>\n",
       "      <td>0.002762</td>\n",
       "      <td>0.003003</td>\n",
       "      <td>0.001694</td>\n",
       "      <td>0.004225</td>\n",
       "      <td>0.003031</td>\n",
       "      <td>NaN</td>\n",
       "    </tr>\n",
       "    <tr>\n",
       "      <th>5</th>\n",
       "      <td>0.002457</td>\n",
       "      <td>0.001424</td>\n",
       "      <td>0.002080</td>\n",
       "      <td>0.001862</td>\n",
       "      <td>0.001118</td>\n",
       "      <td>0.001069</td>\n",
       "      <td>0.002076</td>\n",
       "      <td>0.001697</td>\n",
       "      <td>0.004235</td>\n",
       "      <td>0.003296</td>\n",
       "      <td>...</td>\n",
       "      <td>0.000490</td>\n",
       "      <td>0.000206</td>\n",
       "      <td>0.000299</td>\n",
       "      <td>0.000231</td>\n",
       "      <td>0.000272</td>\n",
       "      <td>0.000098</td>\n",
       "      <td>0.000350</td>\n",
       "      <td>0.000586</td>\n",
       "      <td>0.000747</td>\n",
       "      <td>0.000446</td>\n",
       "    </tr>\n",
       "  </tbody>\n",
       "</table>\n",
       "<p>5 rows × 31 columns</p>\n",
       "</div>"
      ],
      "text/plain": [
       "dia        1         2         3         4         5         6         7   \\\n",
       "mes                                                                         \n",
       "1    0.000000  0.000000  0.000000  0.004950  0.004237  0.000000  0.006192   \n",
       "2    0.012862  0.004673  0.007260  0.000000  0.006211  0.000000  0.000000   \n",
       "3    0.003475  0.003785  0.001654  0.005365  0.004127  0.006806  0.002208   \n",
       "4    0.001835  0.002892  0.005178  0.004289  0.002883  0.001470  0.001516   \n",
       "5    0.002457  0.001424  0.002080  0.001862  0.001118  0.001069  0.002076   \n",
       "\n",
       "dia        8         9         10    ...           22        23        24  \\\n",
       "mes                                  ...                                    \n",
       "1    0.007916  0.004695  0.008772    ...     0.004161  0.005457  0.003231   \n",
       "2    0.005415  0.010399  0.004959    ...     0.005988  0.001446  0.005362   \n",
       "3    0.001702  0.000678  0.008588    ...     0.004408  0.004779  0.001837   \n",
       "4    0.003844  0.003665  0.001529    ...     0.002334  0.003119  0.002047   \n",
       "5    0.001697  0.004235  0.003296    ...     0.000490  0.000206  0.000299   \n",
       "\n",
       "dia        25        26        27        28        29        30        31  \n",
       "mes                                                                        \n",
       "1    0.002584  0.000000  0.001600  0.000000  0.001733  0.003072  0.012442  \n",
       "2    0.002899  0.003263  0.004196  0.001426       NaN       NaN       NaN  \n",
       "3    0.003337  0.005793  0.004022  0.003035  0.002040  0.005188  0.003492  \n",
       "4    0.002115  0.002762  0.003003  0.001694  0.004225  0.003031       NaN  \n",
       "5    0.000231  0.000272  0.000098  0.000350  0.000586  0.000747  0.000446  \n",
       "\n",
       "[5 rows x 31 columns]"
      ]
     },
     "execution_count": 29,
     "metadata": {},
     "output_type": "execute_result"
    },
    {
     "data": {
      "image/png": "[encoded data removed]",
      "text/plain": [
       "<Figure size 432x288 with 2 Axes>"
      ]
     },
     "metadata": {},
     "output_type": "display_data"
    }
   ],
   "source": [
    "for_heatmap = new1.pivot_table(index = 'mes', columns = 'dia', values = 'conversion')\n",
    "g = sns.heatmap(for_heatmap,  cmap=\"Greens\")\n",
    "g.set_title(\"Proporcion de conversiones por dia segun el mes\", fontsize=22)\n",
    "g.set_xlabel(\"Dias\",fontsize=18)\n",
    "g.set_ylabel(\"Meses\", fontsize=18)\n",
    "for_heatmap.head()"
   ]
  },
  {
   "cell_type": "code",
   "execution_count": 30,
   "metadata": {},
   "outputs": [
    {
     "data": {
      "text/plain": [
       "360x640      30009\n",
       "1366x768     21379\n",
       "320x534       3622\n",
       "1920x1080     3521\n",
       "320x570       2561\n",
       "Name: screen_resolution, dtype: int64"
      ]
     },
     "execution_count": 30,
     "metadata": {},
     "output_type": "execute_result"
    }
   ],
   "source": [
    "datos_completo.groupby('event').get_group('visited site')['screen_resolution'].value_counts().head()"
   ]
  },
  {
   "cell_type": "code",
   "execution_count": null,
   "metadata": {},
   "outputs": [],
   "source": []
  },
  {
   "cell_type": "code",
   "execution_count": 31,
   "metadata": {},
   "outputs": [],
   "source": [
    "#Agrego los dias \n",
    "new1['dia'] = new1['timestamp'].dt.day"
   ]
  },
  {
   "cell_type": "code",
   "execution_count": 32,
   "metadata": {
    "scrolled": false
   },
   "outputs": [
    {
     "data": {
      "text/html": [
       "<div>\n",
       "<style scoped>\n",
       "    .dataframe tbody tr th:only-of-type {\n",
       "        vertical-align: middle;\n",
       "    }\n",
       "\n",
       "    .dataframe tbody tr th {\n",
       "        vertical-align: top;\n",
       "    }\n",
       "\n",
       "    .dataframe thead th {\n",
       "        text-align: right;\n",
       "    }\n",
       "</style>\n",
       "<table border=\"1\" class=\"dataframe\">\n",
       "  <thead>\n",
       "    <tr style=\"text-align: right;\">\n",
       "      <th>mes</th>\n",
       "      <th>1</th>\n",
       "      <th>2</th>\n",
       "      <th>3</th>\n",
       "      <th>4</th>\n",
       "      <th>5</th>\n",
       "      <th>6</th>\n",
       "    </tr>\n",
       "    <tr>\n",
       "      <th>dia</th>\n",
       "      <th></th>\n",
       "      <th></th>\n",
       "      <th></th>\n",
       "      <th></th>\n",
       "      <th></th>\n",
       "      <th></th>\n",
       "    </tr>\n",
       "  </thead>\n",
       "  <tbody>\n",
       "    <tr>\n",
       "      <th>1</th>\n",
       "      <td>1.450000</td>\n",
       "      <td>1.194534</td>\n",
       "      <td>1.191138</td>\n",
       "      <td>1.201223</td>\n",
       "      <td>1.199962</td>\n",
       "      <td>1.324900</td>\n",
       "    </tr>\n",
       "    <tr>\n",
       "      <th>2</th>\n",
       "      <td>1.182979</td>\n",
       "      <td>1.174455</td>\n",
       "      <td>1.175625</td>\n",
       "      <td>1.194087</td>\n",
       "      <td>1.219022</td>\n",
       "      <td>1.304108</td>\n",
       "    </tr>\n",
       "    <tr>\n",
       "      <th>3</th>\n",
       "      <td>1.149367</td>\n",
       "      <td>1.203267</td>\n",
       "      <td>1.177833</td>\n",
       "      <td>1.166667</td>\n",
       "      <td>1.222816</td>\n",
       "      <td>1.303189</td>\n",
       "    </tr>\n",
       "    <tr>\n",
       "      <th>4</th>\n",
       "      <td>1.178218</td>\n",
       "      <td>1.201709</td>\n",
       "      <td>1.231760</td>\n",
       "      <td>1.181584</td>\n",
       "      <td>1.214308</td>\n",
       "      <td>1.355860</td>\n",
       "    </tr>\n",
       "    <tr>\n",
       "      <th>5</th>\n",
       "      <td>1.114407</td>\n",
       "      <td>1.192547</td>\n",
       "      <td>1.216644</td>\n",
       "      <td>1.175360</td>\n",
       "      <td>1.197156</td>\n",
       "      <td>1.373350</td>\n",
       "    </tr>\n",
       "  </tbody>\n",
       "</table>\n",
       "</div>"
      ],
      "text/plain": [
       "mes         1         2         3         4         5         6\n",
       "dia                                                            \n",
       "1    1.450000  1.194534  1.191138  1.201223  1.199962  1.324900\n",
       "2    1.182979  1.174455  1.175625  1.194087  1.219022  1.304108\n",
       "3    1.149367  1.203267  1.177833  1.166667  1.222816  1.303189\n",
       "4    1.178218  1.201709  1.231760  1.181584  1.214308  1.355860\n",
       "5    1.114407  1.192547  1.216644  1.175360  1.197156  1.373350"
      ]
     },
     "execution_count": 32,
     "metadata": {},
     "output_type": "execute_result"
    },
    {
     "data": {
      "image/png": "[encoded data removed]",
      "text/plain": [
       "<Figure size 432x288 with 2 Axes>"
      ]
     },
     "metadata": {},
     "output_type": "display_data"
    }
   ],
   "source": [
    "new = new1.pivot_table(index = 'dia', columns = 'mes', values = 'pers_en_event')\n",
    "g = sns.heatmap(new,  cmap=\"BuPu\", )\n",
    "g.set_title(\"Proporción de usuarios por Event por cada dia segun el mes\", fontsize=22)\n",
    "g.set_xlabel(\"Mes \",fontsize=18)\n",
    "g.set_ylabel(\"Dia\", fontsize=18)\n",
    "new.head()"
   ]
  },
  {
   "cell_type": "code",
   "execution_count": 33,
   "metadata": {},
   "outputs": [
    {
     "data": {
      "text/plain": [
       "Text(0,0.5,'Cantidad de visitas')"
      ]
     },
     "execution_count": 33,
     "metadata": {},
     "output_type": "execute_result"
    },
    {
     "data": {
      "image/png": "[encoded data removed]",
      "text/plain": [
       "<Figure size 432x288 with 1 Axes>"
      ]
     },
     "metadata": {},
     "output_type": "display_data"
    }
   ],
   "source": [
    "visitas = datos_completo.groupby('event').get_group('visited site')\n",
    "canales_de_visitas = visitas['channel'].value_counts()\n",
    "g = sns.barplot(x=canales_de_visitas.index, y=canales_de_visitas.values, orient='v')\n",
    "g.set_title(\"Cantidad de visitas segun el tipo de canal\", fontsize=15)\n",
    "g.set_xlabel(\"Tipo de canal\", fontsize=12)\n",
    "g.set_ylabel(\"Cantidad de visitas\", fontsize=12)"
   ]
  },
  {
   "cell_type": "code",
   "execution_count": null,
   "metadata": {},
   "outputs": [],
   "source": []
  }
 ],
 "metadata": {
  "kernelspec": {
   "display_name": "Python 3",
   "language": "python",
   "name": "python3"
  },
  "language_info": {
   "codemirror_mode": {
    "name": "ipython",
    "version": 3
   },
   "file_extension": ".py",
   "mimetype": "text/x-python",
   "name": "python",
   "nbconvert_exporter": "python",
   "pygments_lexer": "ipython3",
   "version": "3.6.5"
  }
 },
 "nbformat": 4,
 "nbformat_minor": 2
}
